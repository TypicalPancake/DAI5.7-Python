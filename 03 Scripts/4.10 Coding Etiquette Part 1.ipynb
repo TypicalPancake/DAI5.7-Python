{
 "cells": [
  {
   "cell_type": "markdown",
   "id": "3e30662f-2ce8-43a1-88f0-6a1fbe36eb0b",
   "metadata": {},
   "source": [
    "# This notebook contains the following:"
   ]
  },
  {
   "cell_type": "markdown",
   "id": "28f1920c-1f93-4aef-b13f-cdb6a5b03c36",
   "metadata": {},
   "source": [
    "1. import libraries / path / data\n",
    "   \n",
    "3. address security implications\n",
    "   \n",
    "5. regional segmentaion\n",
    "   \n",
    "    a. region columns\n",
    "\n",
    "    b. determine spending habits between U.S regions\n",
    "   \n",
    "6. exclusion flag for low-activity customer (less than 5 orders)\n",
    "   \n",
    "8. customer profiling\n",
    "   \n",
    "    a. age\n",
    "   \n",
    "    b. income\n",
    "   \n",
    "    c. number of dependants\n",
    "   \n",
    "11. visulizations\n",
    "    \n",
    "    a. age groups\n",
    "    \n",
    "    b. income groups\n",
    "    \n",
    "    c. customer with dependants\n",
    "    \n",
    "14. aggregate max, mean, & min for use frequency & expenditure\n",
    "    \n",
    "    a. age group\n",
    "    \n",
    "    b. income group\n",
    "    \n",
    "    c. customers with dependants group\n",
    "    \n",
    "17. compare customers with regions and departments\n",
    "    \n",
    "    a. region\n",
    "    \n",
    "    b. department sales\n",
    "    \n",
    "    c. frequency\n",
    "\n",
    "20. visualizations for 8 a-c\n",
    "    \n",
    "    "
   ]
  },
  {
   "cell_type": "markdown",
   "id": "8fe0d25d-5771-449d-8e24-b3c4b9381cd6",
   "metadata": {},
   "source": [
    "#  1. Import libraries / path / data"
   ]
  },
  {
   "cell_type": "code",
   "execution_count": 4,
   "id": "713e3518-9e05-4779-b814-b6f8b1456331",
   "metadata": {},
   "outputs": [],
   "source": [
    "# import libraries\n",
    "import pandas as pd\n",
    "import numpy as np\n",
    "import os\n",
    "import matplotlib.pyplot as plt\n",
    "import seaborn as sns\n",
    "import scipy"
   ]
  },
  {
   "cell_type": "code",
   "execution_count": 5,
   "id": "776d0b33-c557-48c6-b657-e5f67e9dfcc7",
   "metadata": {},
   "outputs": [],
   "source": [
    "# create path\n",
    "path = r'C:\\Users\\TypicalPancake\\DA Instacart Basket Analysis 12-2024'"
   ]
  },
  {
   "cell_type": "code",
   "execution_count": 6,
   "id": "c0ccfa80-71fe-4dcc-bde5-030b25998f9e",
   "metadata": {},
   "outputs": [],
   "source": [
    "# import dataframe\n",
    "ords_prods_cust = pd.read_pickle(os.path.join(path,'02 Data','Prepared Data','ords_prods_cust_merge.pkl'))"
   ]
  },
  {
   "cell_type": "markdown",
   "id": "b5792f6a-0b8c-49b3-9bbc-41a9a1ecca07",
   "metadata": {},
   "source": [
    "# 2. Address security implications"
   ]
  },
  {
   "cell_type": "markdown",
   "id": "5ea084c6-a6e2-49c4-b113-ca20a583f6c4",
   "metadata": {},
   "source": [
    "Security implications would require a restriction of access to sensitive data (authorized personnel w/ access credentials). \n",
    "Encryption of data would help further increase the security for PII. \n",
    "Adhere to GDPR & CCPA laws to ensure correct storing of personal information."
   ]
  },
  {
   "cell_type": "markdown",
   "id": "4cab8b10-3da0-4421-8e33-9c62c056ce00",
   "metadata": {},
   "source": [
    "# 3. Regional segmentaion a. region columns b. determine spending habits between U.S regions"
   ]
  },
  {
   "cell_type": "markdown",
   "id": "a0c44b43-c3a4-44cb-bb60-e5c389129f50",
   "metadata": {},
   "source": [
    "#   3.a Creating region columns"
   ]
  },
  {
   "cell_type": "code",
   "execution_count": 11,
   "id": "5bf7cd82-d24c-422c-8f97-01acdde56ea6",
   "metadata": {},
   "outputs": [
    {
     "name": "stdout",
     "output_type": "stream",
     "text": [
      "   order_id  user_id  order_number  orders_day_of_week  order_hour_of_day  \\\n",
      "0   2539329        1             1                   2                  8   \n",
      "1   2539329        1             1                   2                  8   \n",
      "2   2539329        1             1                   2                  8   \n",
      "3   2539329        1             1                   2                  8   \n",
      "4   2539329        1             1                   2                  8   \n",
      "\n",
      "   days_since_prior_order  product_id  add_to_cart_order  reordered _merge  \\\n",
      "0                     NaN         196                  1          0   both   \n",
      "1                     NaN       14084                  2          0   both   \n",
      "2                     NaN       12427                  3          0   both   \n",
      "3                     NaN       26088                  4          0   both   \n",
      "4                     NaN       26405                  5          0   both   \n",
      "\n",
      "   ...   order_frequency_flag  first_name  last_name  gender    state age  \\\n",
      "0  ...  Non-frequent customer       Linda     Nguyen  Female  Alabama  31   \n",
      "1  ...  Non-frequent customer       Linda     Nguyen  Female  Alabama  31   \n",
      "2  ...  Non-frequent customer       Linda     Nguyen  Female  Alabama  31   \n",
      "3  ...  Non-frequent customer       Linda     Nguyen  Female  Alabama  31   \n",
      "4  ...  Non-frequent customer       Linda     Nguyen  Female  Alabama  31   \n",
      "\n",
      "  date_joined number_dependants  family_status income  \n",
      "0   2/17/2019                 3        married  40423  \n",
      "1   2/17/2019                 3        married  40423  \n",
      "2   2/17/2019                 3        married  40423  \n",
      "3   2/17/2019                 3        married  40423  \n",
      "4   2/17/2019                 3        married  40423  \n",
      "\n",
      "[5 rows x 33 columns]\n"
     ]
    }
   ],
   "source": [
    "# previewing\n",
    "print(ords_prods_cust.head())"
   ]
  },
  {
   "cell_type": "code",
   "execution_count": 12,
   "id": "4113b214-d7c1-4bff-af5b-375833ed4c6f",
   "metadata": {},
   "outputs": [],
   "source": [
    "# labeling northeast region\n",
    "ords_prods_cust.loc[ords_prods_cust['state'] == 'Maine', 'region'] = 'Northeast'\n",
    "ords_prods_cust.loc[ords_prods_cust['state'] == 'New Hampshire', 'region'] = 'Northeast'\n",
    "ords_prods_cust.loc[ords_prods_cust['state'] == 'Vermont', 'region'] = 'Northeast'\n",
    "ords_prods_cust.loc[ords_prods_cust['state'] == 'Pennsylvania', 'region'] = 'Northeast'\n",
    "ords_prods_cust.loc[ords_prods_cust['state'] == 'Massachusetts', 'region'] = 'Northeast'\n",
    "ords_prods_cust.loc[ords_prods_cust['state'] == 'Rhode Island', 'region'] = 'Northeast'\n",
    "ords_prods_cust.loc[ords_prods_cust['state'] == 'Connecticut', 'region'] = 'Northeast'"
   ]
  },
  {
   "cell_type": "code",
   "execution_count": 13,
   "id": "7a1c3d98-107e-4f51-83dd-29a36c9d72e3",
   "metadata": {},
   "outputs": [],
   "source": [
    "# labeling midwest region\n",
    "ords_prods_cust.loc[ords_prods_cust['state'] == 'Wisconsin', 'region'] = 'Midwest'\n",
    "ords_prods_cust.loc[ords_prods_cust['state'] == 'Michigan', 'region'] = 'Midwest'\n",
    "ords_prods_cust.loc[ords_prods_cust['state'] == 'Illinois', 'region'] = 'Midwest'\n",
    "ords_prods_cust.loc[ords_prods_cust['state'] == 'Indiana', 'region'] = 'Midwest'\n",
    "ords_prods_cust.loc[ords_prods_cust['state'] == 'Ohio', 'region'] = 'Midwest'\n",
    "ords_prods_cust.loc[ords_prods_cust['state'] == 'North Dakota', 'region'] = 'Midwest'\n",
    "ords_prods_cust.loc[ords_prods_cust['state'] == 'South Dakota', 'region'] = 'Midwest'\n",
    "ords_prods_cust.loc[ords_prods_cust['state'] == 'Nebraska', 'region'] = 'Midwest'\n",
    "ords_prods_cust.loc[ords_prods_cust['state'] == 'Kansas', 'region'] = 'Midwest'\n",
    "ords_prods_cust.loc[ords_prods_cust['state'] == 'Minnesota', 'region'] = 'Midwest'\n",
    "ords_prods_cust.loc[ords_prods_cust['state'] == 'Iowa', 'region'] = 'Midwest'\n",
    "ords_prods_cust.loc[ords_prods_cust['state'] == 'Missouri', 'region'] = 'Midwest'"
   ]
  },
  {
   "cell_type": "code",
   "execution_count": 14,
   "id": "9acc89e7-6a01-4dce-bd7e-b757adac7f01",
   "metadata": {},
   "outputs": [],
   "source": [
    "# labeling south region\n",
    "ords_prods_cust.loc[ords_prods_cust['state'] == 'Delaware', 'region'] = 'South'\n",
    "ords_prods_cust.loc[ords_prods_cust['state'] == 'Maryland', 'region'] = 'South'\n",
    "ords_prods_cust.loc[ords_prods_cust['state'] == 'District of Columbia', 'region'] = 'South'\n",
    "ords_prods_cust.loc[ords_prods_cust['state'] == 'Virginia', 'region'] = 'South'\n",
    "ords_prods_cust.loc[ords_prods_cust['state'] == 'West Virginia', 'region'] = 'South'\n",
    "ords_prods_cust.loc[ords_prods_cust['state'] == 'North Carolina', 'region'] = 'South'\n",
    "ords_prods_cust.loc[ords_prods_cust['state'] == 'South Carolina', 'region'] = 'South'\n",
    "ords_prods_cust.loc[ords_prods_cust['state'] == 'Georgia', 'region'] = 'South'\n",
    "ords_prods_cust.loc[ords_prods_cust['state'] == 'Florida', 'region'] = 'South'\n",
    "ords_prods_cust.loc[ords_prods_cust['state'] == 'Kentucky', 'region'] = 'South'\n",
    "ords_prods_cust.loc[ords_prods_cust['state'] == 'Tennessee', 'region'] = 'South'\n",
    "ords_prods_cust.loc[ords_prods_cust['state'] == 'Mississippi', 'region'] = 'South'\n",
    "ords_prods_cust.loc[ords_prods_cust['state'] == 'Alabama', 'region'] = 'South'\n",
    "ords_prods_cust.loc[ords_prods_cust['state'] == 'Oklahoma', 'region'] = 'South'\n",
    "ords_prods_cust.loc[ords_prods_cust['state'] == 'Texas', 'region'] = 'South'\n",
    "ords_prods_cust.loc[ords_prods_cust['state'] == 'Arkansas', 'region'] = 'South'\n",
    "ords_prods_cust.loc[ords_prods_cust['state'] == 'Louisiana', 'region'] = 'South'"
   ]
  },
  {
   "cell_type": "code",
   "execution_count": 15,
   "id": "5e8a7743-4364-4ba5-9e36-d0cc9d316c7b",
   "metadata": {},
   "outputs": [],
   "source": [
    "# labeling west region\n",
    "ords_prods_cust.loc[ords_prods_cust['state'] == 'Idaho', 'region'] = 'West'\n",
    "ords_prods_cust.loc[ords_prods_cust['state'] == 'Montana', 'region'] = 'West'\n",
    "ords_prods_cust.loc[ords_prods_cust['state'] == 'Wyoming', 'region'] = 'West'\n",
    "ords_prods_cust.loc[ords_prods_cust['state'] == 'Nevada', 'region'] = 'West'\n",
    "ords_prods_cust.loc[ords_prods_cust['state'] == 'Utah', 'region'] = 'West'\n",
    "ords_prods_cust.loc[ords_prods_cust['state'] == 'Colorado', 'region'] = 'West'\n",
    "ords_prods_cust.loc[ords_prods_cust['state'] == 'Arizona', 'region'] = 'West'\n",
    "ords_prods_cust.loc[ords_prods_cust['state'] == 'New Mexico', 'region'] = 'West'\n",
    "ords_prods_cust.loc[ords_prods_cust['state'] == 'Alaska', 'region'] = 'West'\n",
    "ords_prods_cust.loc[ords_prods_cust['state'] == 'Washington', 'region'] = 'West'\n",
    "ords_prods_cust.loc[ords_prods_cust['state'] == 'Oregon', 'region'] = 'West'\n",
    "ords_prods_cust.loc[ords_prods_cust['state'] == 'California', 'region'] = 'West'\n",
    "ords_prods_cust.loc[ords_prods_cust['state'] == 'Hawaii', 'region'] = 'West'"
   ]
  },
  {
   "cell_type": "code",
   "execution_count": 16,
   "id": "e09df2ff-331f-431a-9f9c-a7550bdccfd8",
   "metadata": {},
   "outputs": [
    {
     "name": "stdout",
     "output_type": "stream",
     "text": [
      "   order_id  user_id  order_number  orders_day_of_week  order_hour_of_day  \\\n",
      "0   2539329        1             1                   2                  8   \n",
      "1   2539329        1             1                   2                  8   \n",
      "2   2539329        1             1                   2                  8   \n",
      "3   2539329        1             1                   2                  8   \n",
      "4   2539329        1             1                   2                  8   \n",
      "\n",
      "   days_since_prior_order  product_id  add_to_cart_order  reordered _merge  \\\n",
      "0                     NaN         196                  1          0   both   \n",
      "1                     NaN       14084                  2          0   both   \n",
      "2                     NaN       12427                  3          0   both   \n",
      "3                     NaN       26088                  4          0   both   \n",
      "4                     NaN       26405                  5          0   both   \n",
      "\n",
      "   ... first_name  last_name  gender    state age date_joined  \\\n",
      "0  ...      Linda     Nguyen  Female  Alabama  31   2/17/2019   \n",
      "1  ...      Linda     Nguyen  Female  Alabama  31   2/17/2019   \n",
      "2  ...      Linda     Nguyen  Female  Alabama  31   2/17/2019   \n",
      "3  ...      Linda     Nguyen  Female  Alabama  31   2/17/2019   \n",
      "4  ...      Linda     Nguyen  Female  Alabama  31   2/17/2019   \n",
      "\n",
      "  number_dependants family_status  income region  \n",
      "0                 3       married   40423  South  \n",
      "1                 3       married   40423  South  \n",
      "2                 3       married   40423  South  \n",
      "3                 3       married   40423  South  \n",
      "4                 3       married   40423  South  \n",
      "\n",
      "[5 rows x 34 columns]\n"
     ]
    }
   ],
   "source": [
    "# previewing\n",
    "print(ords_prods_cust.head())"
   ]
  },
  {
   "cell_type": "markdown",
   "id": "b1f32aa3-522d-482b-aaa9-6fd11a86db2d",
   "metadata": {},
   "source": [
    "# 3.b Determine spending habits "
   ]
  },
  {
   "cell_type": "code",
   "execution_count": 18,
   "id": "0a6d0fc2-d80d-42af-9308-fa7f900328b4",
   "metadata": {},
   "outputs": [],
   "source": [
    "# creating crosstab of regions\n",
    "crosstab = pd.crosstab(ords_prods_cust['region'], ords_prods_cust['spending_flag'], dropna = False)"
   ]
  },
  {
   "cell_type": "code",
   "execution_count": 19,
   "id": "f724e7b3-b5de-4caf-a1e3-8945e2acaa4f",
   "metadata": {},
   "outputs": [],
   "source": [
    "# crosstab to clipboard\n",
    "crosstab.to_clipboard()"
   ]
  },
  {
   "cell_type": "code",
   "execution_count": 20,
   "id": "812f25da-021b-4d6a-915a-fad1ea6f4cce",
   "metadata": {},
   "outputs": [
    {
     "name": "stdout",
     "output_type": "stream",
     "text": [
      "spending_flag  High spender  Low spender\n",
      "region                                  \n",
      "Midwest               29265      7568060\n",
      "Northeast             13799      4445262\n",
      "South                 40579     10751306\n",
      "West                  31223      8261690\n",
      "NaN                    4843      1258832\n"
     ]
    }
   ],
   "source": [
    "# previewing\n",
    "print(crosstab)"
   ]
  },
  {
   "cell_type": "code",
   "execution_count": 21,
   "id": "153ed25e-cc49-402c-896b-fe44ccb0dc81",
   "metadata": {},
   "outputs": [],
   "source": [
    "# exporting\n",
    "ords_prods_cust.to_pickle(os.path.join(path, '02 Data','Prepared Data', 'orders_products_customers.pkl'))"
   ]
  },
  {
   "cell_type": "markdown",
   "id": "eeaa9f93-8d13-4885-90d1-2c809e322e39",
   "metadata": {},
   "source": [
    "# 4. Exclusion flag for low-activity customer (less than 5 orders)"
   ]
  },
  {
   "cell_type": "code",
   "execution_count": 23,
   "id": "9249ef9f-cfba-4a63-923f-f7581161e3c9",
   "metadata": {},
   "outputs": [],
   "source": [
    "# creating flag for cusomter who have less than 5 order\n",
    "ords_prods_cust.loc[ords_prods_cust['max_order'] < 5, 'activity_flag'] = 'low-activity customer'\n",
    "ords_prods_cust.loc[ords_prods_cust['max_order'] >= 5, 'activity_flag'] = 'high-activity customer'"
   ]
  },
  {
   "cell_type": "code",
   "execution_count": 24,
   "id": "a258a1c2-5a0b-4ab2-a49e-074d2b6d1475",
   "metadata": {},
   "outputs": [
    {
     "data": {
      "text/plain": [
       "activity_flag\n",
       "high-activity customer    30964564\n",
       "low-activity customer      1440295\n",
       "Name: count, dtype: int64"
      ]
     },
     "execution_count": 24,
     "metadata": {},
     "output_type": "execute_result"
    }
   ],
   "source": [
    "ords_prods_cust['activity_flag'].value_counts(dropna = False)"
   ]
  },
  {
   "cell_type": "code",
   "execution_count": 25,
   "id": "938f21dd-e6a9-45d5-b804-5dd8dbe00f32",
   "metadata": {},
   "outputs": [],
   "source": [
    "# exclude the low order customers\n",
    "df_excluded = ords_prods_cust[ords_prods_cust['activity_flag'] != 'low-activity customer']"
   ]
  },
  {
   "cell_type": "code",
   "execution_count": 26,
   "id": "28ca0534-c86c-4f0a-bffc-cd0d99702228",
   "metadata": {},
   "outputs": [],
   "source": [
    "# exporting \n",
    "df_excluded.to_pickle(os.path.join(path, '02 Data','Prepared Data', 'low_activity_excluded.pkl'))"
   ]
  },
  {
   "cell_type": "markdown",
   "id": "8f2ba4be-6d21-45cc-8c5c-f3b954c1bc78",
   "metadata": {},
   "source": [
    "# 5. Customer profiling a. age b. income c. number of dependants"
   ]
  },
  {
   "cell_type": "markdown",
   "id": "a317a652-47a2-4689-a85c-f8f3a54448c3",
   "metadata": {},
   "source": [
    "# 5.a Age profiling"
   ]
  },
  {
   "cell_type": "code",
   "execution_count": 29,
   "id": "6169440e-1eca-4dff-a6d9-b55717d89e6c",
   "metadata": {},
   "outputs": [
    {
     "name": "stderr",
     "output_type": "stream",
     "text": [
      "C:\\Users\\TypicalPancake\\AppData\\Local\\Temp\\ipykernel_69500\\3845124731.py:2: SettingWithCopyWarning: \n",
      "A value is trying to be set on a copy of a slice from a DataFrame.\n",
      "Try using .loc[row_indexer,col_indexer] = value instead\n",
      "\n",
      "See the caveats in the documentation: https://pandas.pydata.org/pandas-docs/stable/user_guide/indexing.html#returning-a-view-versus-a-copy\n",
      "  df_excluded.loc[df_excluded['age'] <= 25, 'age_group'] = 'young adult'\n"
     ]
    }
   ],
   "source": [
    "# creating profile group for age\n",
    "df_excluded.loc[df_excluded['age'] <= 25, 'age_group'] = 'young adult'\n",
    "df_excluded.loc[(df_excluded['age'] > 25) & (df_excluded['age'] <= 44), 'age_group'] = 'adult'\n",
    "df_excluded.loc[(df_excluded['age'] > 44) & (df_excluded['age'] <= 64), 'age_group'] = 'middle-aged'\n",
    "df_excluded.loc[df_excluded['age'] > 64, 'age_group'] = 'senior'"
   ]
  },
  {
   "cell_type": "code",
   "execution_count": 30,
   "id": "6b1a2206-d903-4b01-824d-6d22251ea403",
   "metadata": {},
   "outputs": [
    {
     "data": {
      "text/plain": [
       "age_group\n",
       "middle-aged    9690051\n",
       "adult          9214451\n",
       "senior         8195544\n",
       "young adult    3864518\n",
       "Name: count, dtype: int64"
      ]
     },
     "execution_count": 30,
     "metadata": {},
     "output_type": "execute_result"
    }
   ],
   "source": [
    "# previewing\n",
    "age_group_counts = df_excluded['age_group'].value_counts(dropna = False)\n",
    "age_group_counts"
   ]
  },
  {
   "cell_type": "markdown",
   "id": "50f2822b-df7f-4431-ad0a-89c86d756e45",
   "metadata": {},
   "source": [
    "# 5.b Income profiling"
   ]
  },
  {
   "cell_type": "code",
   "execution_count": 32,
   "id": "a966f2f1-31a9-4ffd-803e-f563ba449391",
   "metadata": {},
   "outputs": [
    {
     "name": "stderr",
     "output_type": "stream",
     "text": [
      "C:\\Users\\TypicalPancake\\AppData\\Local\\Temp\\ipykernel_69500\\2312369187.py:2: SettingWithCopyWarning: \n",
      "A value is trying to be set on a copy of a slice from a DataFrame.\n",
      "Try using .loc[row_indexer,col_indexer] = value instead\n",
      "\n",
      "See the caveats in the documentation: https://pandas.pydata.org/pandas-docs/stable/user_guide/indexing.html#returning-a-view-versus-a-copy\n",
      "  df_excluded.loc[df_excluded['income'] <= 55000, 'income_group'] = 'low-income'\n"
     ]
    }
   ],
   "source": [
    "# creating profile group for income\n",
    "df_excluded.loc[df_excluded['income'] <= 55000, 'income_group'] = 'low-income'\n",
    "df_excluded.loc[(df_excluded['income'] > 55000) & (df_excluded['income'] <= 150000), 'income_group'] = 'middle-income'\n",
    "df_excluded.loc[df_excluded['income'] > 150000, 'income_group'] = 'high-income'"
   ]
  },
  {
   "cell_type": "code",
   "execution_count": 33,
   "id": "9c72da03-4a86-4533-a84f-b84b37960c16",
   "metadata": {},
   "outputs": [
    {
     "data": {
      "text/plain": [
       "income_group\n",
       "middle-income    22617642\n",
       "low-income        4452388\n",
       "high-income       3894534\n",
       "Name: count, dtype: int64"
      ]
     },
     "execution_count": 33,
     "metadata": {},
     "output_type": "execute_result"
    }
   ],
   "source": [
    "# previewing\n",
    "df_excluded['income_group'].value_counts(dropna = False)"
   ]
  },
  {
   "cell_type": "markdown",
   "id": "46fb6dc7-ef0c-47da-bc99-dfba975f6e1f",
   "metadata": {},
   "source": [
    "# 5.c Dependant profiling"
   ]
  },
  {
   "cell_type": "code",
   "execution_count": 35,
   "id": "2ef7c53b-243c-42fd-b0ca-96ff5b36e8a1",
   "metadata": {},
   "outputs": [
    {
     "name": "stderr",
     "output_type": "stream",
     "text": [
      "C:\\Users\\TypicalPancake\\AppData\\Local\\Temp\\ipykernel_69500\\2631502194.py:2: SettingWithCopyWarning: \n",
      "A value is trying to be set on a copy of a slice from a DataFrame.\n",
      "Try using .loc[row_indexer,col_indexer] = value instead\n",
      "\n",
      "See the caveats in the documentation: https://pandas.pydata.org/pandas-docs/stable/user_guide/indexing.html#returning-a-view-versus-a-copy\n",
      "  df_excluded.loc[df_excluded['number_dependants'] == 0, 'dependants_flag'] = 'no dependants'\n"
     ]
    }
   ],
   "source": [
    "# creating profile group for dependants\n",
    "df_excluded.loc[df_excluded['number_dependants'] == 0, 'dependants_flag'] = 'no dependants'\n",
    "df_excluded.loc[df_excluded['number_dependants'] >= 1, 'dependants_flag'] = 'has dependants'"
   ]
  },
  {
   "cell_type": "code",
   "execution_count": 36,
   "id": "7a423fcd-d6aa-4706-b436-e71bd04b8801",
   "metadata": {},
   "outputs": [
    {
     "data": {
      "text/plain": [
       "dependants_flag\n",
       "has dependants    23224883\n",
       "no dependants      7739681\n",
       "Name: count, dtype: int64"
      ]
     },
     "execution_count": 36,
     "metadata": {},
     "output_type": "execute_result"
    }
   ],
   "source": [
    "# previewing\n",
    "dependant_counts = df_excluded['dependants_flag'].value_counts(dropna = False)\n",
    "dependant_counts"
   ]
  },
  {
   "cell_type": "code",
   "execution_count": 37,
   "id": "d1a1adbf-1c00-47a4-b874-39f7a0c1c518",
   "metadata": {},
   "outputs": [],
   "source": [
    "# exporting dataframe\n",
    "df_excluded.to_pickle(os.path.join(path, '02 Data','Prepared Data', 'low_activity_excluded.pkl'))"
   ]
  },
  {
   "cell_type": "markdown",
   "id": "f87c6041-dd3f-4b92-9df2-c71fdc50efb7",
   "metadata": {},
   "source": [
    "# 6. Visulizations a. age groups b. income groups c. customer with dependants"
   ]
  },
  {
   "cell_type": "markdown",
   "id": "efb5cbd6-b102-40ed-b8f9-4d20e2fd8fe3",
   "metadata": {},
   "source": [
    "# 6.a Age visualization"
   ]
  },
  {
   "cell_type": "code",
   "execution_count": 40,
   "id": "e2e89804-13eb-4834-9630-3b42445a3ff6",
   "metadata": {},
   "outputs": [
    {
     "data": {
      "image/png": "[encoded data removed]",
      "text/plain": [
       "<Figure size 640x480 with 1 Axes>"
      ]
     },
     "metadata": {},
     "output_type": "display_data"
    }
   ],
   "source": [
    "# creating pie chart\n",
    "age_group_distribution_pie = age_group_counts.plot.pie(autopct='%1.1f%%', labels= ['middle-aged: 45-64 years', 'adult: 26-44 years', 'senior: 65+ years', 'young adult: up to 25 years'], startangle=90, colors=['#ff9999','#66b3ff','#99ff99','#ffcc99'])\n",
    "plt.ylabel('')  # Hide the y-label\n",
    "plt.title('Distribution of Age Groups')\n",
    "plt.show()"
   ]
  },
  {
   "cell_type": "markdown",
   "id": "08f395c8-cdb3-490b-9ca2-b1386ed79c57",
   "metadata": {},
   "source": [
    "# 6.b Income visualization"
   ]
  },
  {
   "cell_type": "code",
   "execution_count": 42,
   "id": "84a980a1-ff12-452a-adcd-fe7090eba536",
   "metadata": {},
   "outputs": [
    {
     "data": {
      "image/png": "[encoded data removed]",
      "text/plain": [
       "<Figure size 700x700 with 1 Axes>"
      ]
     },
     "metadata": {},
     "output_type": "display_data"
    }
   ],
   "source": [
    "# creating pie chart 2\n",
    "income_group_counts = df_excluded['income_group'].value_counts(dropna=False)\n",
    "income_group_distribution_pie = income_group_counts.plot.pie(autopct='%1.1f%%', figsize=(7, 7), colors=['skyblue', 'lightgreen', 'lightcoral', 'lightgoldenrodyellow', 'lightsalmon'])\n",
    "plt.title('Distribution of Income Groups')\n",
    "plt.ylabel('')  \n",
    "plt.show()"
   ]
  },
  {
   "cell_type": "markdown",
   "id": "b7ef6c15-c066-4876-9d19-e37be738f29b",
   "metadata": {},
   "source": [
    "# 6.c Dependants visualization"
   ]
  },
  {
   "cell_type": "code",
   "execution_count": 44,
   "id": "eda363cc-5efb-4dce-8c08-29deefe19560",
   "metadata": {},
   "outputs": [
    {
     "data": {
      "image/png": "[encoded data removed]",
      "text/plain": [
       "<Figure size 640x480 with 1 Axes>"
      ]
     },
     "metadata": {},
     "output_type": "display_data"
    }
   ],
   "source": [
    "# creating pie chart 3\n",
    "dependants_pie = dependant_counts.plot.pie(autopct='%1.1f%%', labels= ['has dependants', 'no dependants'], startangle=90, colors=['#ff9999','#66b3ff'])\n",
    "plt.ylabel('')  # Hide the y-label\n",
    "plt.title('Percentage Having Dependants')\n",
    "plt.show()"
   ]
  },
  {
   "cell_type": "code",
   "execution_count": 45,
   "id": "a5965b4f-ee18-4d78-9a6d-2cb6c960af69",
   "metadata": {},
   "outputs": [],
   "source": [
    "# exporting visualizations\n",
    "age_group_distribution_pie.figure.savefig(os.path.join(path, '04 Analysis','Visualizations', 'age_group_distribution_pie.png'))\n",
    "income_group_distribution_pie.figure.savefig(os.path.join(path, '04 Analysis','Visualizations', 'income_distribution_piebar.png'))\n",
    "dependants_pie.figure.savefig(os.path.join(path, '04 Analysis','Visualizations', 'percentage_dependants_pie.png'))"
   ]
  },
  {
   "cell_type": "markdown",
   "id": "a4cd6d7f-04c4-4e65-94e6-b2352c098332",
   "metadata": {},
   "source": [
    "# 7.Aggregate max, mean, & min for use frequency & expenditure"
   ]
  },
  {
   "cell_type": "code",
   "execution_count": 47,
   "id": "6123d33e-ba77-49cc-823f-9f51169262a9",
   "metadata": {},
   "outputs": [
    {
     "name": "stdout",
     "output_type": "stream",
     "text": [
      "Index(['order_id', 'user_id', 'order_number', 'orders_day_of_week',\n",
      "       'order_hour_of_day', 'days_since_prior_order', 'product_id',\n",
      "       'add_to_cart_order', 'reordered', '_merge', 'product_name', 'aisle_id',\n",
      "       'department_id', 'prices', 'match', 'busiest_day', 'busiest_days',\n",
      "       'busiest_period_of_day', 'max_order', 'loyalty_flag',\n",
      "       'avg_product_price', 'spending_flag', 'median_days_between_orders',\n",
      "       'order_frequency_flag', 'first_name', 'last_name', 'gender', 'state',\n",
      "       'age', 'date_joined', 'number_dependants', 'family_status', 'income',\n",
      "       'region', 'activity_flag', 'age_group', 'income_group',\n",
      "       'dependants_flag'],\n",
      "      dtype='object')\n"
     ]
    }
   ],
   "source": [
    "print(df_excluded.columns)"
   ]
  },
  {
   "cell_type": "code",
   "execution_count": 48,
   "id": "badb9205-b697-4a1a-abab-4529d7cd1b91",
   "metadata": {},
   "outputs": [],
   "source": [
    "# creating customerprofiles in subset\n",
    "customer_profile = df_excluded.groupby(['user_id', 'state', 'region', 'number_dependants', 'family_status', 'age_group', 'order_number', 'orders_day_of_week', 'order_hour_of_day', 'loyalty_flag', 'order_frequency_flag', 'dependants_flag', 'income_group', 'spending_flag'])['prices'].sum().reset_index()"
   ]
  },
  {
   "cell_type": "code",
   "execution_count": 49,
   "id": "1ecd305f-47d7-4e86-8cc5-4c8ac4eb210f",
   "metadata": {},
   "outputs": [
    {
     "data": {
      "text/html": [
       "<div>\n",
       "<style scoped>\n",
       "    .dataframe tbody tr th:only-of-type {\n",
       "        vertical-align: middle;\n",
       "    }\n",
       "\n",
       "    .dataframe tbody tr th {\n",
       "        vertical-align: top;\n",
       "    }\n",
       "\n",
       "    .dataframe thead th {\n",
       "        text-align: right;\n",
       "    }\n",
       "</style>\n",
       "<table border=\"1\" class=\"dataframe\">\n",
       "  <thead>\n",
       "    <tr style=\"text-align: right;\">\n",
       "      <th></th>\n",
       "      <th>user_id</th>\n",
       "      <th>state</th>\n",
       "      <th>region</th>\n",
       "      <th>number_dependants</th>\n",
       "      <th>family_status</th>\n",
       "      <th>age_group</th>\n",
       "      <th>order_number</th>\n",
       "      <th>orders_day_of_week</th>\n",
       "      <th>order_hour_of_day</th>\n",
       "      <th>loyalty_flag</th>\n",
       "      <th>order_frequency_flag</th>\n",
       "      <th>dependants_flag</th>\n",
       "      <th>income_group</th>\n",
       "      <th>spending_flag</th>\n",
       "      <th>prices</th>\n",
       "    </tr>\n",
       "  </thead>\n",
       "  <tbody>\n",
       "    <tr>\n",
       "      <th>0</th>\n",
       "      <td>1</td>\n",
       "      <td>Alabama</td>\n",
       "      <td>South</td>\n",
       "      <td>3</td>\n",
       "      <td>married</td>\n",
       "      <td>adult</td>\n",
       "      <td>1</td>\n",
       "      <td>2</td>\n",
       "      <td>8</td>\n",
       "      <td>New customer</td>\n",
       "      <td>Non-frequent customer</td>\n",
       "      <td>has dependants</td>\n",
       "      <td>low-income</td>\n",
       "      <td>Low spender</td>\n",
       "      <td>31.6</td>\n",
       "    </tr>\n",
       "    <tr>\n",
       "      <th>1</th>\n",
       "      <td>1</td>\n",
       "      <td>Alabama</td>\n",
       "      <td>South</td>\n",
       "      <td>3</td>\n",
       "      <td>married</td>\n",
       "      <td>adult</td>\n",
       "      <td>2</td>\n",
       "      <td>3</td>\n",
       "      <td>7</td>\n",
       "      <td>New customer</td>\n",
       "      <td>Non-frequent customer</td>\n",
       "      <td>has dependants</td>\n",
       "      <td>low-income</td>\n",
       "      <td>Low spender</td>\n",
       "      <td>35.4</td>\n",
       "    </tr>\n",
       "    <tr>\n",
       "      <th>2</th>\n",
       "      <td>1</td>\n",
       "      <td>Alabama</td>\n",
       "      <td>South</td>\n",
       "      <td>3</td>\n",
       "      <td>married</td>\n",
       "      <td>adult</td>\n",
       "      <td>3</td>\n",
       "      <td>3</td>\n",
       "      <td>12</td>\n",
       "      <td>New customer</td>\n",
       "      <td>Non-frequent customer</td>\n",
       "      <td>has dependants</td>\n",
       "      <td>low-income</td>\n",
       "      <td>Low spender</td>\n",
       "      <td>28.2</td>\n",
       "    </tr>\n",
       "    <tr>\n",
       "      <th>3</th>\n",
       "      <td>1</td>\n",
       "      <td>Alabama</td>\n",
       "      <td>South</td>\n",
       "      <td>3</td>\n",
       "      <td>married</td>\n",
       "      <td>adult</td>\n",
       "      <td>4</td>\n",
       "      <td>4</td>\n",
       "      <td>7</td>\n",
       "      <td>New customer</td>\n",
       "      <td>Non-frequent customer</td>\n",
       "      <td>has dependants</td>\n",
       "      <td>low-income</td>\n",
       "      <td>Low spender</td>\n",
       "      <td>26.0</td>\n",
       "    </tr>\n",
       "    <tr>\n",
       "      <th>4</th>\n",
       "      <td>1</td>\n",
       "      <td>Alabama</td>\n",
       "      <td>South</td>\n",
       "      <td>3</td>\n",
       "      <td>married</td>\n",
       "      <td>adult</td>\n",
       "      <td>5</td>\n",
       "      <td>4</td>\n",
       "      <td>15</td>\n",
       "      <td>New customer</td>\n",
       "      <td>Non-frequent customer</td>\n",
       "      <td>has dependants</td>\n",
       "      <td>low-income</td>\n",
       "      <td>Low spender</td>\n",
       "      <td>57.0</td>\n",
       "    </tr>\n",
       "  </tbody>\n",
       "</table>\n",
       "</div>"
      ],
      "text/plain": [
       "   user_id    state region  number_dependants family_status age_group  \\\n",
       "0        1  Alabama  South                  3       married     adult   \n",
       "1        1  Alabama  South                  3       married     adult   \n",
       "2        1  Alabama  South                  3       married     adult   \n",
       "3        1  Alabama  South                  3       married     adult   \n",
       "4        1  Alabama  South                  3       married     adult   \n",
       "\n",
       "   order_number  orders_day_of_week  order_hour_of_day  loyalty_flag  \\\n",
       "0             1                   2                  8  New customer   \n",
       "1             2                   3                  7  New customer   \n",
       "2             3                   3                 12  New customer   \n",
       "3             4                   4                  7  New customer   \n",
       "4             5                   4                 15  New customer   \n",
       "\n",
       "    order_frequency_flag dependants_flag income_group spending_flag  prices  \n",
       "0  Non-frequent customer  has dependants   low-income   Low spender    31.6  \n",
       "1  Non-frequent customer  has dependants   low-income   Low spender    35.4  \n",
       "2  Non-frequent customer  has dependants   low-income   Low spender    28.2  \n",
       "3  Non-frequent customer  has dependants   low-income   Low spender    26.0  \n",
       "4  Non-frequent customer  has dependants   low-income   Low spender    57.0  "
      ]
     },
     "execution_count": 49,
     "metadata": {},
     "output_type": "execute_result"
    }
   ],
   "source": [
    "#previewing\n",
    "customer_profile.head()"
   ]
  },
  {
   "cell_type": "code",
   "execution_count": 50,
   "id": "f7005ceb-aa2a-421c-b76a-88025b6fc836",
   "metadata": {},
   "outputs": [],
   "source": [
    "# aggregating expenditure customer profile\n",
    "customer_agg = customer_profile.groupby('user_id').agg({'order_number': ['max', 'min', 'mean'], 'prices': ['max', 'min', 'mean']})"
   ]
  },
  {
   "cell_type": "code",
   "execution_count": 51,
   "id": "129685fb-eb42-44cb-827a-283785ba51d5",
   "metadata": {},
   "outputs": [
    {
     "data": {
      "text/html": [
       "<div>\n",
       "<style scoped>\n",
       "    .dataframe tbody tr th:only-of-type {\n",
       "        vertical-align: middle;\n",
       "    }\n",
       "\n",
       "    .dataframe tbody tr th {\n",
       "        vertical-align: top;\n",
       "    }\n",
       "\n",
       "    .dataframe thead tr th {\n",
       "        text-align: left;\n",
       "    }\n",
       "\n",
       "    .dataframe thead tr:last-of-type th {\n",
       "        text-align: right;\n",
       "    }\n",
       "</style>\n",
       "<table border=\"1\" class=\"dataframe\">\n",
       "  <thead>\n",
       "    <tr>\n",
       "      <th></th>\n",
       "      <th colspan=\"3\" halign=\"left\">order_number</th>\n",
       "      <th colspan=\"3\" halign=\"left\">prices</th>\n",
       "    </tr>\n",
       "    <tr>\n",
       "      <th></th>\n",
       "      <th>max</th>\n",
       "      <th>min</th>\n",
       "      <th>mean</th>\n",
       "      <th>max</th>\n",
       "      <th>min</th>\n",
       "      <th>mean</th>\n",
       "    </tr>\n",
       "    <tr>\n",
       "      <th>user_id</th>\n",
       "      <th></th>\n",
       "      <th></th>\n",
       "      <th></th>\n",
       "      <th></th>\n",
       "      <th></th>\n",
       "      <th></th>\n",
       "    </tr>\n",
       "  </thead>\n",
       "  <tbody>\n",
       "    <tr>\n",
       "      <th>1</th>\n",
       "      <td>10</td>\n",
       "      <td>1</td>\n",
       "      <td>5.5</td>\n",
       "      <td>63.1</td>\n",
       "      <td>25.0</td>\n",
       "      <td>37.570000</td>\n",
       "    </tr>\n",
       "    <tr>\n",
       "      <th>2</th>\n",
       "      <td>14</td>\n",
       "      <td>1</td>\n",
       "      <td>7.5</td>\n",
       "      <td>213.1</td>\n",
       "      <td>19.0</td>\n",
       "      <td>104.685714</td>\n",
       "    </tr>\n",
       "    <tr>\n",
       "      <th>3</th>\n",
       "      <td>12</td>\n",
       "      <td>1</td>\n",
       "      <td>6.5</td>\n",
       "      <td>107.2</td>\n",
       "      <td>30.7</td>\n",
       "      <td>60.116667</td>\n",
       "    </tr>\n",
       "    <tr>\n",
       "      <th>4</th>\n",
       "      <td>5</td>\n",
       "      <td>1</td>\n",
       "      <td>3.0</td>\n",
       "      <td>63.4</td>\n",
       "      <td>10.8</td>\n",
       "      <td>29.540000</td>\n",
       "    </tr>\n",
       "    <tr>\n",
       "      <th>7</th>\n",
       "      <td>20</td>\n",
       "      <td>1</td>\n",
       "      <td>10.5</td>\n",
       "      <td>166.7</td>\n",
       "      <td>6.3</td>\n",
       "      <td>76.910000</td>\n",
       "    </tr>\n",
       "    <tr>\n",
       "      <th>...</th>\n",
       "      <td>...</td>\n",
       "      <td>...</td>\n",
       "      <td>...</td>\n",
       "      <td>...</td>\n",
       "      <td>...</td>\n",
       "      <td>...</td>\n",
       "    </tr>\n",
       "    <tr>\n",
       "      <th>206203</th>\n",
       "      <td>5</td>\n",
       "      <td>1</td>\n",
       "      <td>3.0</td>\n",
       "      <td>216.3</td>\n",
       "      <td>126.6</td>\n",
       "      <td>169.900000</td>\n",
       "    </tr>\n",
       "    <tr>\n",
       "      <th>206206</th>\n",
       "      <td>67</td>\n",
       "      <td>1</td>\n",
       "      <td>34.0</td>\n",
       "      <td>157.3</td>\n",
       "      <td>9.6</td>\n",
       "      <td>32.526866</td>\n",
       "    </tr>\n",
       "    <tr>\n",
       "      <th>206207</th>\n",
       "      <td>16</td>\n",
       "      <td>1</td>\n",
       "      <td>8.5</td>\n",
       "      <td>200.8</td>\n",
       "      <td>42.8</td>\n",
       "      <td>101.931250</td>\n",
       "    </tr>\n",
       "    <tr>\n",
       "      <th>206208</th>\n",
       "      <td>49</td>\n",
       "      <td>1</td>\n",
       "      <td>25.0</td>\n",
       "      <td>238.5</td>\n",
       "      <td>38.7</td>\n",
       "      <td>115.595918</td>\n",
       "    </tr>\n",
       "    <tr>\n",
       "      <th>206209</th>\n",
       "      <td>13</td>\n",
       "      <td>1</td>\n",
       "      <td>7.0</td>\n",
       "      <td>131.5</td>\n",
       "      <td>11.1</td>\n",
       "      <td>70.046154</td>\n",
       "    </tr>\n",
       "  </tbody>\n",
       "</table>\n",
       "<p>156301 rows × 6 columns</p>\n",
       "</div>"
      ],
      "text/plain": [
       "        order_number           prices                   \n",
       "                 max min  mean    max    min        mean\n",
       "user_id                                                 \n",
       "1                 10   1   5.5   63.1   25.0   37.570000\n",
       "2                 14   1   7.5  213.1   19.0  104.685714\n",
       "3                 12   1   6.5  107.2   30.7   60.116667\n",
       "4                  5   1   3.0   63.4   10.8   29.540000\n",
       "7                 20   1  10.5  166.7    6.3   76.910000\n",
       "...              ...  ..   ...    ...    ...         ...\n",
       "206203             5   1   3.0  216.3  126.6  169.900000\n",
       "206206            67   1  34.0  157.3    9.6   32.526866\n",
       "206207            16   1   8.5  200.8   42.8  101.931250\n",
       "206208            49   1  25.0  238.5   38.7  115.595918\n",
       "206209            13   1   7.0  131.5   11.1   70.046154\n",
       "\n",
       "[156301 rows x 6 columns]"
      ]
     },
     "execution_count": 51,
     "metadata": {},
     "output_type": "execute_result"
    }
   ],
   "source": [
    "#previewing\n",
    "customer_agg"
   ]
  },
  {
   "cell_type": "code",
   "execution_count": 52,
   "id": "20786081-8e9c-4339-baf0-e68d49e6fc90",
   "metadata": {},
   "outputs": [],
   "source": [
    "# aggregating frequency customer profile\n",
    "freq_agg = df_excluded.groupby('user_id').agg({'order_number': ['max', 'min', 'mean'], 'days_since_prior_order': ['max', 'min', 'mean']})"
   ]
  },
  {
   "cell_type": "code",
   "execution_count": 53,
   "id": "ec0d43a8-8935-48f9-81aa-781a78c0b0f2",
   "metadata": {},
   "outputs": [
    {
     "data": {
      "text/html": [
       "<div>\n",
       "<style scoped>\n",
       "    .dataframe tbody tr th:only-of-type {\n",
       "        vertical-align: middle;\n",
       "    }\n",
       "\n",
       "    .dataframe tbody tr th {\n",
       "        vertical-align: top;\n",
       "    }\n",
       "\n",
       "    .dataframe thead tr th {\n",
       "        text-align: left;\n",
       "    }\n",
       "\n",
       "    .dataframe thead tr:last-of-type th {\n",
       "        text-align: right;\n",
       "    }\n",
       "</style>\n",
       "<table border=\"1\" class=\"dataframe\">\n",
       "  <thead>\n",
       "    <tr>\n",
       "      <th></th>\n",
       "      <th colspan=\"3\" halign=\"left\">order_number</th>\n",
       "      <th colspan=\"3\" halign=\"left\">days_since_prior_order</th>\n",
       "    </tr>\n",
       "    <tr>\n",
       "      <th></th>\n",
       "      <th>max</th>\n",
       "      <th>min</th>\n",
       "      <th>mean</th>\n",
       "      <th>max</th>\n",
       "      <th>min</th>\n",
       "      <th>mean</th>\n",
       "    </tr>\n",
       "    <tr>\n",
       "      <th>user_id</th>\n",
       "      <th></th>\n",
       "      <th></th>\n",
       "      <th></th>\n",
       "      <th></th>\n",
       "      <th></th>\n",
       "      <th></th>\n",
       "    </tr>\n",
       "  </thead>\n",
       "  <tbody>\n",
       "    <tr>\n",
       "      <th>1</th>\n",
       "      <td>10</td>\n",
       "      <td>1</td>\n",
       "      <td>5.813559</td>\n",
       "      <td>30.0</td>\n",
       "      <td>0.0</td>\n",
       "      <td>20.259259</td>\n",
       "    </tr>\n",
       "    <tr>\n",
       "      <th>2</th>\n",
       "      <td>14</td>\n",
       "      <td>1</td>\n",
       "      <td>8.035897</td>\n",
       "      <td>30.0</td>\n",
       "      <td>3.0</td>\n",
       "      <td>15.967033</td>\n",
       "    </tr>\n",
       "    <tr>\n",
       "      <th>3</th>\n",
       "      <td>12</td>\n",
       "      <td>1</td>\n",
       "      <td>6.000000</td>\n",
       "      <td>21.0</td>\n",
       "      <td>7.0</td>\n",
       "      <td>11.487179</td>\n",
       "    </tr>\n",
       "    <tr>\n",
       "      <th>4</th>\n",
       "      <td>5</td>\n",
       "      <td>1</td>\n",
       "      <td>2.888889</td>\n",
       "      <td>21.0</td>\n",
       "      <td>0.0</td>\n",
       "      <td>15.357143</td>\n",
       "    </tr>\n",
       "    <tr>\n",
       "      <th>7</th>\n",
       "      <td>20</td>\n",
       "      <td>1</td>\n",
       "      <td>9.645631</td>\n",
       "      <td>30.0</td>\n",
       "      <td>2.0</td>\n",
       "      <td>13.546392</td>\n",
       "    </tr>\n",
       "    <tr>\n",
       "      <th>...</th>\n",
       "      <td>...</td>\n",
       "      <td>...</td>\n",
       "      <td>...</td>\n",
       "      <td>...</td>\n",
       "      <td>...</td>\n",
       "      <td>...</td>\n",
       "    </tr>\n",
       "    <tr>\n",
       "      <th>206203</th>\n",
       "      <td>5</td>\n",
       "      <td>1</td>\n",
       "      <td>2.983193</td>\n",
       "      <td>30.0</td>\n",
       "      <td>27.0</td>\n",
       "      <td>29.103093</td>\n",
       "    </tr>\n",
       "    <tr>\n",
       "      <th>206206</th>\n",
       "      <td>67</td>\n",
       "      <td>1</td>\n",
       "      <td>38.007018</td>\n",
       "      <td>15.0</td>\n",
       "      <td>0.0</td>\n",
       "      <td>4.042705</td>\n",
       "    </tr>\n",
       "    <tr>\n",
       "      <th>206207</th>\n",
       "      <td>16</td>\n",
       "      <td>1</td>\n",
       "      <td>8.116592</td>\n",
       "      <td>30.0</td>\n",
       "      <td>1.0</td>\n",
       "      <td>14.879397</td>\n",
       "    </tr>\n",
       "    <tr>\n",
       "      <th>206208</th>\n",
       "      <td>49</td>\n",
       "      <td>1</td>\n",
       "      <td>25.505170</td>\n",
       "      <td>20.0</td>\n",
       "      <td>0.0</td>\n",
       "      <td>7.442105</td>\n",
       "    </tr>\n",
       "    <tr>\n",
       "      <th>206209</th>\n",
       "      <td>13</td>\n",
       "      <td>1</td>\n",
       "      <td>6.937984</td>\n",
       "      <td>30.0</td>\n",
       "      <td>3.0</td>\n",
       "      <td>20.275862</td>\n",
       "    </tr>\n",
       "  </tbody>\n",
       "</table>\n",
       "<p>162631 rows × 6 columns</p>\n",
       "</div>"
      ],
      "text/plain": [
       "        order_number                days_since_prior_order                 \n",
       "                 max min       mean                    max   min       mean\n",
       "user_id                                                                    \n",
       "1                 10   1   5.813559                   30.0   0.0  20.259259\n",
       "2                 14   1   8.035897                   30.0   3.0  15.967033\n",
       "3                 12   1   6.000000                   21.0   7.0  11.487179\n",
       "4                  5   1   2.888889                   21.0   0.0  15.357143\n",
       "7                 20   1   9.645631                   30.0   2.0  13.546392\n",
       "...              ...  ..        ...                    ...   ...        ...\n",
       "206203             5   1   2.983193                   30.0  27.0  29.103093\n",
       "206206            67   1  38.007018                   15.0   0.0   4.042705\n",
       "206207            16   1   8.116592                   30.0   1.0  14.879397\n",
       "206208            49   1  25.505170                   20.0   0.0   7.442105\n",
       "206209            13   1   6.937984                   30.0   3.0  20.275862\n",
       "\n",
       "[162631 rows x 6 columns]"
      ]
     },
     "execution_count": 53,
     "metadata": {},
     "output_type": "execute_result"
    }
   ],
   "source": [
    "freq_agg"
   ]
  },
  {
   "cell_type": "markdown",
   "id": "db572300-69cd-4292-9d3d-8e66af4a5bfe",
   "metadata": {},
   "source": [
    "# 8. & 9. Compare customers with regions and departments a. region b. department sales c. frequency. / Visualizations"
   ]
  },
  {
   "cell_type": "markdown",
   "id": "417eba68-0e4e-41cc-ba88-5638847724c0",
   "metadata": {},
   "source": [
    "# 8.a Customer files by departments"
   ]
  },
  {
   "cell_type": "code",
   "execution_count": 56,
   "id": "709706d8-43f0-4752-89be-1cc06ae6d9f6",
   "metadata": {},
   "outputs": [],
   "source": [
    "# importing department names \n",
    "departments = pd.read_csv(os.path.join(path,'02 Data','Original Data','departments.csv'))"
   ]
  },
  {
   "cell_type": "code",
   "execution_count": 57,
   "id": "b3ff7213-44dd-46cd-927f-5035c32ef1ab",
   "metadata": {},
   "outputs": [
    {
     "data": {
      "text/html": [
       "<div>\n",
       "<style scoped>\n",
       "    .dataframe tbody tr th:only-of-type {\n",
       "        vertical-align: middle;\n",
       "    }\n",
       "\n",
       "    .dataframe tbody tr th {\n",
       "        vertical-align: top;\n",
       "    }\n",
       "\n",
       "    .dataframe thead th {\n",
       "        text-align: right;\n",
       "    }\n",
       "</style>\n",
       "<table border=\"1\" class=\"dataframe\">\n",
       "  <thead>\n",
       "    <tr style=\"text-align: right;\">\n",
       "      <th></th>\n",
       "      <th>department_id</th>\n",
       "      <th>department</th>\n",
       "    </tr>\n",
       "  </thead>\n",
       "  <tbody>\n",
       "    <tr>\n",
       "      <th>0</th>\n",
       "      <td>1</td>\n",
       "      <td>frozen</td>\n",
       "    </tr>\n",
       "    <tr>\n",
       "      <th>1</th>\n",
       "      <td>2</td>\n",
       "      <td>other</td>\n",
       "    </tr>\n",
       "    <tr>\n",
       "      <th>2</th>\n",
       "      <td>3</td>\n",
       "      <td>bakery</td>\n",
       "    </tr>\n",
       "    <tr>\n",
       "      <th>3</th>\n",
       "      <td>4</td>\n",
       "      <td>produce</td>\n",
       "    </tr>\n",
       "    <tr>\n",
       "      <th>4</th>\n",
       "      <td>5</td>\n",
       "      <td>alcohol</td>\n",
       "    </tr>\n",
       "  </tbody>\n",
       "</table>\n",
       "</div>"
      ],
      "text/plain": [
       "   department_id department\n",
       "0              1     frozen\n",
       "1              2      other\n",
       "2              3     bakery\n",
       "3              4    produce\n",
       "4              5    alcohol"
      ]
     },
     "execution_count": 57,
     "metadata": {},
     "output_type": "execute_result"
    }
   ],
   "source": [
    "# previewing\n",
    "departments.head()"
   ]
  },
  {
   "cell_type": "code",
   "execution_count": 58,
   "id": "331eb8d9-a2be-4318-b440-c890da37cf4c",
   "metadata": {},
   "outputs": [
    {
     "name": "stdout",
     "output_type": "stream",
     "text": [
      "Index(['department_id', 'department'], dtype='object')\n"
     ]
    }
   ],
   "source": [
    "print(departments.columns)"
   ]
  },
  {
   "cell_type": "code",
   "execution_count": 59,
   "id": "24d9b9c4-ea6b-42ea-af0d-044700064e6b",
   "metadata": {},
   "outputs": [],
   "source": [
    "# merging\n",
    "df_excluded_with_dept = pd.merge(df_excluded, departments[['department_id', 'department']], on='department_id', how='left')"
   ]
  },
  {
   "cell_type": "code",
   "execution_count": 60,
   "id": "28e966e6-287a-4929-8485-9ae07ae1a44b",
   "metadata": {},
   "outputs": [
    {
     "data": {
      "text/html": [
       "<div>\n",
       "<style scoped>\n",
       "    .dataframe tbody tr th:only-of-type {\n",
       "        vertical-align: middle;\n",
       "    }\n",
       "\n",
       "    .dataframe tbody tr th {\n",
       "        vertical-align: top;\n",
       "    }\n",
       "\n",
       "    .dataframe thead th {\n",
       "        text-align: right;\n",
       "    }\n",
       "</style>\n",
       "<table border=\"1\" class=\"dataframe\">\n",
       "  <thead>\n",
       "    <tr style=\"text-align: right;\">\n",
       "      <th></th>\n",
       "      <th>order_id</th>\n",
       "      <th>user_id</th>\n",
       "      <th>order_number</th>\n",
       "      <th>orders_day_of_week</th>\n",
       "      <th>order_hour_of_day</th>\n",
       "      <th>days_since_prior_order</th>\n",
       "      <th>product_id</th>\n",
       "      <th>add_to_cart_order</th>\n",
       "      <th>reordered</th>\n",
       "      <th>_merge</th>\n",
       "      <th>...</th>\n",
       "      <th>date_joined</th>\n",
       "      <th>number_dependants</th>\n",
       "      <th>family_status</th>\n",
       "      <th>income</th>\n",
       "      <th>region</th>\n",
       "      <th>activity_flag</th>\n",
       "      <th>age_group</th>\n",
       "      <th>income_group</th>\n",
       "      <th>dependants_flag</th>\n",
       "      <th>department</th>\n",
       "    </tr>\n",
       "  </thead>\n",
       "  <tbody>\n",
       "    <tr>\n",
       "      <th>0</th>\n",
       "      <td>2539329</td>\n",
       "      <td>1</td>\n",
       "      <td>1</td>\n",
       "      <td>2</td>\n",
       "      <td>8</td>\n",
       "      <td>NaN</td>\n",
       "      <td>196</td>\n",
       "      <td>1</td>\n",
       "      <td>0</td>\n",
       "      <td>both</td>\n",
       "      <td>...</td>\n",
       "      <td>2/17/2019</td>\n",
       "      <td>3</td>\n",
       "      <td>married</td>\n",
       "      <td>40423</td>\n",
       "      <td>South</td>\n",
       "      <td>high-activity customer</td>\n",
       "      <td>adult</td>\n",
       "      <td>low-income</td>\n",
       "      <td>has dependants</td>\n",
       "      <td>beverages</td>\n",
       "    </tr>\n",
       "    <tr>\n",
       "      <th>1</th>\n",
       "      <td>2539329</td>\n",
       "      <td>1</td>\n",
       "      <td>1</td>\n",
       "      <td>2</td>\n",
       "      <td>8</td>\n",
       "      <td>NaN</td>\n",
       "      <td>14084</td>\n",
       "      <td>2</td>\n",
       "      <td>0</td>\n",
       "      <td>both</td>\n",
       "      <td>...</td>\n",
       "      <td>2/17/2019</td>\n",
       "      <td>3</td>\n",
       "      <td>married</td>\n",
       "      <td>40423</td>\n",
       "      <td>South</td>\n",
       "      <td>high-activity customer</td>\n",
       "      <td>adult</td>\n",
       "      <td>low-income</td>\n",
       "      <td>has dependants</td>\n",
       "      <td>dairy eggs</td>\n",
       "    </tr>\n",
       "    <tr>\n",
       "      <th>2</th>\n",
       "      <td>2539329</td>\n",
       "      <td>1</td>\n",
       "      <td>1</td>\n",
       "      <td>2</td>\n",
       "      <td>8</td>\n",
       "      <td>NaN</td>\n",
       "      <td>12427</td>\n",
       "      <td>3</td>\n",
       "      <td>0</td>\n",
       "      <td>both</td>\n",
       "      <td>...</td>\n",
       "      <td>2/17/2019</td>\n",
       "      <td>3</td>\n",
       "      <td>married</td>\n",
       "      <td>40423</td>\n",
       "      <td>South</td>\n",
       "      <td>high-activity customer</td>\n",
       "      <td>adult</td>\n",
       "      <td>low-income</td>\n",
       "      <td>has dependants</td>\n",
       "      <td>snacks</td>\n",
       "    </tr>\n",
       "    <tr>\n",
       "      <th>3</th>\n",
       "      <td>2539329</td>\n",
       "      <td>1</td>\n",
       "      <td>1</td>\n",
       "      <td>2</td>\n",
       "      <td>8</td>\n",
       "      <td>NaN</td>\n",
       "      <td>26088</td>\n",
       "      <td>4</td>\n",
       "      <td>0</td>\n",
       "      <td>both</td>\n",
       "      <td>...</td>\n",
       "      <td>2/17/2019</td>\n",
       "      <td>3</td>\n",
       "      <td>married</td>\n",
       "      <td>40423</td>\n",
       "      <td>South</td>\n",
       "      <td>high-activity customer</td>\n",
       "      <td>adult</td>\n",
       "      <td>low-income</td>\n",
       "      <td>has dependants</td>\n",
       "      <td>snacks</td>\n",
       "    </tr>\n",
       "    <tr>\n",
       "      <th>4</th>\n",
       "      <td>2539329</td>\n",
       "      <td>1</td>\n",
       "      <td>1</td>\n",
       "      <td>2</td>\n",
       "      <td>8</td>\n",
       "      <td>NaN</td>\n",
       "      <td>26405</td>\n",
       "      <td>5</td>\n",
       "      <td>0</td>\n",
       "      <td>both</td>\n",
       "      <td>...</td>\n",
       "      <td>2/17/2019</td>\n",
       "      <td>3</td>\n",
       "      <td>married</td>\n",
       "      <td>40423</td>\n",
       "      <td>South</td>\n",
       "      <td>high-activity customer</td>\n",
       "      <td>adult</td>\n",
       "      <td>low-income</td>\n",
       "      <td>has dependants</td>\n",
       "      <td>household</td>\n",
       "    </tr>\n",
       "  </tbody>\n",
       "</table>\n",
       "<p>5 rows × 39 columns</p>\n",
       "</div>"
      ],
      "text/plain": [
       "   order_id  user_id  order_number  orders_day_of_week  order_hour_of_day  \\\n",
       "0   2539329        1             1                   2                  8   \n",
       "1   2539329        1             1                   2                  8   \n",
       "2   2539329        1             1                   2                  8   \n",
       "3   2539329        1             1                   2                  8   \n",
       "4   2539329        1             1                   2                  8   \n",
       "\n",
       "   days_since_prior_order  product_id  add_to_cart_order  reordered _merge  \\\n",
       "0                     NaN         196                  1          0   both   \n",
       "1                     NaN       14084                  2          0   both   \n",
       "2                     NaN       12427                  3          0   both   \n",
       "3                     NaN       26088                  4          0   both   \n",
       "4                     NaN       26405                  5          0   both   \n",
       "\n",
       "   ... date_joined  number_dependants  family_status  income region  \\\n",
       "0  ...   2/17/2019                  3        married   40423  South   \n",
       "1  ...   2/17/2019                  3        married   40423  South   \n",
       "2  ...   2/17/2019                  3        married   40423  South   \n",
       "3  ...   2/17/2019                  3        married   40423  South   \n",
       "4  ...   2/17/2019                  3        married   40423  South   \n",
       "\n",
       "            activity_flag age_group income_group  dependants_flag  department  \n",
       "0  high-activity customer     adult   low-income   has dependants   beverages  \n",
       "1  high-activity customer     adult   low-income   has dependants  dairy eggs  \n",
       "2  high-activity customer     adult   low-income   has dependants      snacks  \n",
       "3  high-activity customer     adult   low-income   has dependants      snacks  \n",
       "4  high-activity customer     adult   low-income   has dependants   household  \n",
       "\n",
       "[5 rows x 39 columns]"
      ]
     },
     "execution_count": 60,
     "metadata": {},
     "output_type": "execute_result"
    }
   ],
   "source": [
    "df_excluded_with_dept.head()"
   ]
  },
  {
   "cell_type": "code",
   "execution_count": 61,
   "id": "f8a69551-4dc1-445d-943d-f559b1e3803a",
   "metadata": {},
   "outputs": [
    {
     "name": "stdout",
     "output_type": "stream",
     "text": [
      "Index(['order_id', 'user_id', 'order_number', 'orders_day_of_week',\n",
      "       'order_hour_of_day', 'days_since_prior_order', 'product_id',\n",
      "       'add_to_cart_order', 'reordered', '_merge', 'product_name', 'aisle_id',\n",
      "       'department_id', 'prices', 'match', 'busiest_day', 'busiest_days',\n",
      "       'busiest_period_of_day', 'max_order', 'loyalty_flag',\n",
      "       'avg_product_price', 'spending_flag', 'median_days_between_orders',\n",
      "       'order_frequency_flag', 'first_name', 'last_name', 'gender', 'state',\n",
      "       'age', 'date_joined', 'number_dependants', 'family_status', 'income',\n",
      "       'region', 'activity_flag', 'age_group', 'income_group',\n",
      "       'dependants_flag', 'department'],\n",
      "      dtype='object')\n"
     ]
    }
   ],
   "source": [
    "print(df_excluded_with_dept.columns)"
   ]
  },
  {
   "cell_type": "code",
   "execution_count": 62,
   "id": "cb7678e3-79d1-4142-8ef7-c771fc4cbc37",
   "metadata": {},
   "outputs": [
    {
     "data": {
      "text/html": [
       "<div>\n",
       "<style scoped>\n",
       "    .dataframe tbody tr th:only-of-type {\n",
       "        vertical-align: middle;\n",
       "    }\n",
       "\n",
       "    .dataframe tbody tr th {\n",
       "        vertical-align: top;\n",
       "    }\n",
       "\n",
       "    .dataframe thead th {\n",
       "        text-align: right;\n",
       "    }\n",
       "</style>\n",
       "<table border=\"1\" class=\"dataframe\">\n",
       "  <thead>\n",
       "    <tr style=\"text-align: right;\">\n",
       "      <th>department</th>\n",
       "      <th>alcohol</th>\n",
       "      <th>babies</th>\n",
       "      <th>bakery</th>\n",
       "      <th>beverages</th>\n",
       "      <th>breakfast</th>\n",
       "      <th>bulk</th>\n",
       "      <th>canned goods</th>\n",
       "      <th>dairy eggs</th>\n",
       "      <th>deli</th>\n",
       "      <th>dry goods pasta</th>\n",
       "      <th>...</th>\n",
       "      <th>household</th>\n",
       "      <th>international</th>\n",
       "      <th>meat seafood</th>\n",
       "      <th>missing</th>\n",
       "      <th>other</th>\n",
       "      <th>pantry</th>\n",
       "      <th>personal care</th>\n",
       "      <th>pets</th>\n",
       "      <th>produce</th>\n",
       "      <th>snacks</th>\n",
       "    </tr>\n",
       "    <tr>\n",
       "      <th>region</th>\n",
       "      <th></th>\n",
       "      <th></th>\n",
       "      <th></th>\n",
       "      <th></th>\n",
       "      <th></th>\n",
       "      <th></th>\n",
       "      <th></th>\n",
       "      <th></th>\n",
       "      <th></th>\n",
       "      <th></th>\n",
       "      <th></th>\n",
       "      <th></th>\n",
       "      <th></th>\n",
       "      <th></th>\n",
       "      <th></th>\n",
       "      <th></th>\n",
       "      <th></th>\n",
       "      <th></th>\n",
       "      <th></th>\n",
       "      <th></th>\n",
       "      <th></th>\n",
       "    </tr>\n",
       "  </thead>\n",
       "  <tbody>\n",
       "    <tr>\n",
       "      <th>Midwest</th>\n",
       "      <td>34043</td>\n",
       "      <td>95741</td>\n",
       "      <td>261753</td>\n",
       "      <td>598979</td>\n",
       "      <td>156155</td>\n",
       "      <td>7929</td>\n",
       "      <td>237459</td>\n",
       "      <td>1212490</td>\n",
       "      <td>234464</td>\n",
       "      <td>193463</td>\n",
       "      <td>...</td>\n",
       "      <td>166992</td>\n",
       "      <td>60666</td>\n",
       "      <td>158260</td>\n",
       "      <td>15563</td>\n",
       "      <td>7983</td>\n",
       "      <td>420334</td>\n",
       "      <td>100398</td>\n",
       "      <td>21358</td>\n",
       "      <td>2134115</td>\n",
       "      <td>645143</td>\n",
       "    </tr>\n",
       "    <tr>\n",
       "      <th>Northeast</th>\n",
       "      <td>20120</td>\n",
       "      <td>56872</td>\n",
       "      <td>155882</td>\n",
       "      <td>364615</td>\n",
       "      <td>92420</td>\n",
       "      <td>4471</td>\n",
       "      <td>137738</td>\n",
       "      <td>711976</td>\n",
       "      <td>139808</td>\n",
       "      <td>111939</td>\n",
       "      <td>...</td>\n",
       "      <td>96810</td>\n",
       "      <td>35265</td>\n",
       "      <td>91595</td>\n",
       "      <td>8970</td>\n",
       "      <td>4926</td>\n",
       "      <td>244582</td>\n",
       "      <td>58664</td>\n",
       "      <td>13150</td>\n",
       "      <td>1239418</td>\n",
       "      <td>384202</td>\n",
       "    </tr>\n",
       "    <tr>\n",
       "      <th>South</th>\n",
       "      <td>48813</td>\n",
       "      <td>139511</td>\n",
       "      <td>371620</td>\n",
       "      <td>859419</td>\n",
       "      <td>223172</td>\n",
       "      <td>11180</td>\n",
       "      <td>337458</td>\n",
       "      <td>1723016</td>\n",
       "      <td>333620</td>\n",
       "      <td>272813</td>\n",
       "      <td>...</td>\n",
       "      <td>230061</td>\n",
       "      <td>84649</td>\n",
       "      <td>224120</td>\n",
       "      <td>21787</td>\n",
       "      <td>11579</td>\n",
       "      <td>591754</td>\n",
       "      <td>142496</td>\n",
       "      <td>29909</td>\n",
       "      <td>3027476</td>\n",
       "      <td>916780</td>\n",
       "    </tr>\n",
       "    <tr>\n",
       "      <th>West</th>\n",
       "      <td>36754</td>\n",
       "      <td>102428</td>\n",
       "      <td>288155</td>\n",
       "      <td>650574</td>\n",
       "      <td>173619</td>\n",
       "      <td>8743</td>\n",
       "      <td>260221</td>\n",
       "      <td>1327060</td>\n",
       "      <td>257352</td>\n",
       "      <td>212043</td>\n",
       "      <td>...</td>\n",
       "      <td>178200</td>\n",
       "      <td>65998</td>\n",
       "      <td>173830</td>\n",
       "      <td>15906</td>\n",
       "      <td>8581</td>\n",
       "      <td>457886</td>\n",
       "      <td>106647</td>\n",
       "      <td>24059</td>\n",
       "      <td>2324678</td>\n",
       "      <td>711329</td>\n",
       "    </tr>\n",
       "    <tr>\n",
       "      <th>NaN</th>\n",
       "      <td>4897</td>\n",
       "      <td>15840</td>\n",
       "      <td>43418</td>\n",
       "      <td>98314</td>\n",
       "      <td>25484</td>\n",
       "      <td>1128</td>\n",
       "      <td>39198</td>\n",
       "      <td>202640</td>\n",
       "      <td>38590</td>\n",
       "      <td>31878</td>\n",
       "      <td>...</td>\n",
       "      <td>27794</td>\n",
       "      <td>9413</td>\n",
       "      <td>26976</td>\n",
       "      <td>2542</td>\n",
       "      <td>1342</td>\n",
       "      <td>68149</td>\n",
       "      <td>16101</td>\n",
       "      <td>4584</td>\n",
       "      <td>353586</td>\n",
       "      <td>108952</td>\n",
       "    </tr>\n",
       "  </tbody>\n",
       "</table>\n",
       "<p>5 rows × 21 columns</p>\n",
       "</div>"
      ],
      "text/plain": [
       "department  alcohol  babies  bakery  beverages  breakfast   bulk  \\\n",
       "region                                                             \n",
       "Midwest       34043   95741  261753     598979     156155   7929   \n",
       "Northeast     20120   56872  155882     364615      92420   4471   \n",
       "South         48813  139511  371620     859419     223172  11180   \n",
       "West          36754  102428  288155     650574     173619   8743   \n",
       "NaN            4897   15840   43418      98314      25484   1128   \n",
       "\n",
       "department  canned goods  dairy eggs    deli  dry goods pasta  ...  household  \\\n",
       "region                                                         ...              \n",
       "Midwest           237459     1212490  234464           193463  ...     166992   \n",
       "Northeast         137738      711976  139808           111939  ...      96810   \n",
       "South             337458     1723016  333620           272813  ...     230061   \n",
       "West              260221     1327060  257352           212043  ...     178200   \n",
       "NaN                39198      202640   38590            31878  ...      27794   \n",
       "\n",
       "department  international  meat seafood  missing  other  pantry  \\\n",
       "region                                                            \n",
       "Midwest             60666        158260    15563   7983  420334   \n",
       "Northeast           35265         91595     8970   4926  244582   \n",
       "South               84649        224120    21787  11579  591754   \n",
       "West                65998        173830    15906   8581  457886   \n",
       "NaN                  9413         26976     2542   1342   68149   \n",
       "\n",
       "department  personal care   pets  produce  snacks  \n",
       "region                                             \n",
       "Midwest            100398  21358  2134115  645143  \n",
       "Northeast           58664  13150  1239418  384202  \n",
       "South              142496  29909  3027476  916780  \n",
       "West               106647  24059  2324678  711329  \n",
       "NaN                 16101   4584   353586  108952  \n",
       "\n",
       "[5 rows x 21 columns]"
      ]
     },
     "execution_count": 62,
     "metadata": {},
     "output_type": "execute_result"
    }
   ],
   "source": [
    "# creating crosstab\n",
    "region_dept_cross = pd.crosstab(df_excluded_with_dept['region'], df_excluded_with_dept['department'], dropna = False)\n",
    "region_dept_cross"
   ]
  },
  {
   "cell_type": "code",
   "execution_count": 63,
   "id": "2449028d-e2eb-437c-bd7f-b0e8d13ac380",
   "metadata": {},
   "outputs": [],
   "source": [
    "# Total sum of the dataset\n",
    "total_sum = region_dept_cross.sum().sum()"
   ]
  },
  {
   "cell_type": "code",
   "execution_count": 64,
   "id": "299caf5a-dea2-4dba-a744-d1d0e9ff8fe1",
   "metadata": {},
   "outputs": [
    {
     "data": {
      "text/plain": [
       "30964564"
      ]
     },
     "execution_count": 64,
     "metadata": {},
     "output_type": "execute_result"
    }
   ],
   "source": [
    "# previewing\n",
    "total_sum"
   ]
  },
  {
   "cell_type": "code",
   "execution_count": 65,
   "id": "7ac13877-26ee-4dee-a895-149e0b2f595b",
   "metadata": {},
   "outputs": [
    {
     "name": "stdout",
     "output_type": "stream",
     "text": [
      "Index(['Midwest', 'Northeast', 'South', 'West', nan], dtype='object', name='region')\n"
     ]
    }
   ],
   "source": [
    "# previewing\n",
    "print(region_dept_cross.index)"
   ]
  },
  {
   "cell_type": "code",
   "execution_count": 66,
   "id": "c8e92140-f2cb-4a02-b03f-72e8652586a6",
   "metadata": {},
   "outputs": [],
   "source": [
    "# calculating sum of 'nan' row\n",
    "nan_row = region_dept_cross[pd.isnull(region_dept_cross.index)]"
   ]
  },
  {
   "cell_type": "code",
   "execution_count": 67,
   "id": "48cc1224-6c0c-4b2b-af16-eb71dca03e21",
   "metadata": {},
   "outputs": [],
   "source": [
    "nan_sum = nan_row.sum().sum()"
   ]
  },
  {
   "cell_type": "code",
   "execution_count": 68,
   "id": "1e354b2c-675b-4b11-bda8-d449a667240e",
   "metadata": {},
   "outputs": [
    {
     "name": "stdout",
     "output_type": "stream",
     "text": [
      "NaN Sum: 1204798\n"
     ]
    }
   ],
   "source": [
    "print(f\"NaN Sum: {nan_sum}\")"
   ]
  },
  {
   "cell_type": "code",
   "execution_count": 69,
   "id": "679a767e-4f86-46da-a517-a7cb35d5ad51",
   "metadata": {},
   "outputs": [],
   "source": [
    "nan_row_main = df_excluded_with_dept[pd.isnull(df_excluded_with_dept.index)]"
   ]
  },
  {
   "cell_type": "code",
   "execution_count": 70,
   "id": "bb748305-1579-49a0-a36b-79cb94901fe0",
   "metadata": {},
   "outputs": [],
   "source": [
    "nan_sum_main = nan_row.sum().sum()"
   ]
  },
  {
   "cell_type": "code",
   "execution_count": 71,
   "id": "1e38d612-a275-40ad-a757-8ee098399f06",
   "metadata": {},
   "outputs": [
    {
     "name": "stdout",
     "output_type": "stream",
     "text": [
      "NaN Sum: 1204798\n"
     ]
    }
   ],
   "source": [
    "print(f\"NaN Sum: {nan_sum_main}\")"
   ]
  },
  {
   "cell_type": "markdown",
   "id": "3be7b02c-4c5b-4d82-81d8-e92a554d4749",
   "metadata": {},
   "source": [
    "Decided to remove 'Nan' from data (3.8% of total)"
   ]
  },
  {
   "cell_type": "code",
   "execution_count": 73,
   "id": "3be87a66-d677-47ea-9343-f309ce6a8f2c",
   "metadata": {},
   "outputs": [],
   "source": [
    "region_dept_cross_cleaned = region_dept_cross[~pd.isnull(region_dept_cross.index)]"
   ]
  },
  {
   "cell_type": "code",
   "execution_count": 74,
   "id": "0acbfbe0-3514-41a6-9b25-412dff781da3",
   "metadata": {},
   "outputs": [
    {
     "data": {
      "text/html": [
       "<div>\n",
       "<style scoped>\n",
       "    .dataframe tbody tr th:only-of-type {\n",
       "        vertical-align: middle;\n",
       "    }\n",
       "\n",
       "    .dataframe tbody tr th {\n",
       "        vertical-align: top;\n",
       "    }\n",
       "\n",
       "    .dataframe thead th {\n",
       "        text-align: right;\n",
       "    }\n",
       "</style>\n",
       "<table border=\"1\" class=\"dataframe\">\n",
       "  <thead>\n",
       "    <tr style=\"text-align: right;\">\n",
       "      <th>department</th>\n",
       "      <th>alcohol</th>\n",
       "      <th>babies</th>\n",
       "      <th>bakery</th>\n",
       "      <th>beverages</th>\n",
       "      <th>breakfast</th>\n",
       "      <th>bulk</th>\n",
       "      <th>canned goods</th>\n",
       "      <th>dairy eggs</th>\n",
       "      <th>deli</th>\n",
       "      <th>dry goods pasta</th>\n",
       "      <th>...</th>\n",
       "      <th>household</th>\n",
       "      <th>international</th>\n",
       "      <th>meat seafood</th>\n",
       "      <th>missing</th>\n",
       "      <th>other</th>\n",
       "      <th>pantry</th>\n",
       "      <th>personal care</th>\n",
       "      <th>pets</th>\n",
       "      <th>produce</th>\n",
       "      <th>snacks</th>\n",
       "    </tr>\n",
       "    <tr>\n",
       "      <th>region</th>\n",
       "      <th></th>\n",
       "      <th></th>\n",
       "      <th></th>\n",
       "      <th></th>\n",
       "      <th></th>\n",
       "      <th></th>\n",
       "      <th></th>\n",
       "      <th></th>\n",
       "      <th></th>\n",
       "      <th></th>\n",
       "      <th></th>\n",
       "      <th></th>\n",
       "      <th></th>\n",
       "      <th></th>\n",
       "      <th></th>\n",
       "      <th></th>\n",
       "      <th></th>\n",
       "      <th></th>\n",
       "      <th></th>\n",
       "      <th></th>\n",
       "      <th></th>\n",
       "    </tr>\n",
       "  </thead>\n",
       "  <tbody>\n",
       "    <tr>\n",
       "      <th>Midwest</th>\n",
       "      <td>34043</td>\n",
       "      <td>95741</td>\n",
       "      <td>261753</td>\n",
       "      <td>598979</td>\n",
       "      <td>156155</td>\n",
       "      <td>7929</td>\n",
       "      <td>237459</td>\n",
       "      <td>1212490</td>\n",
       "      <td>234464</td>\n",
       "      <td>193463</td>\n",
       "      <td>...</td>\n",
       "      <td>166992</td>\n",
       "      <td>60666</td>\n",
       "      <td>158260</td>\n",
       "      <td>15563</td>\n",
       "      <td>7983</td>\n",
       "      <td>420334</td>\n",
       "      <td>100398</td>\n",
       "      <td>21358</td>\n",
       "      <td>2134115</td>\n",
       "      <td>645143</td>\n",
       "    </tr>\n",
       "    <tr>\n",
       "      <th>Northeast</th>\n",
       "      <td>20120</td>\n",
       "      <td>56872</td>\n",
       "      <td>155882</td>\n",
       "      <td>364615</td>\n",
       "      <td>92420</td>\n",
       "      <td>4471</td>\n",
       "      <td>137738</td>\n",
       "      <td>711976</td>\n",
       "      <td>139808</td>\n",
       "      <td>111939</td>\n",
       "      <td>...</td>\n",
       "      <td>96810</td>\n",
       "      <td>35265</td>\n",
       "      <td>91595</td>\n",
       "      <td>8970</td>\n",
       "      <td>4926</td>\n",
       "      <td>244582</td>\n",
       "      <td>58664</td>\n",
       "      <td>13150</td>\n",
       "      <td>1239418</td>\n",
       "      <td>384202</td>\n",
       "    </tr>\n",
       "    <tr>\n",
       "      <th>South</th>\n",
       "      <td>48813</td>\n",
       "      <td>139511</td>\n",
       "      <td>371620</td>\n",
       "      <td>859419</td>\n",
       "      <td>223172</td>\n",
       "      <td>11180</td>\n",
       "      <td>337458</td>\n",
       "      <td>1723016</td>\n",
       "      <td>333620</td>\n",
       "      <td>272813</td>\n",
       "      <td>...</td>\n",
       "      <td>230061</td>\n",
       "      <td>84649</td>\n",
       "      <td>224120</td>\n",
       "      <td>21787</td>\n",
       "      <td>11579</td>\n",
       "      <td>591754</td>\n",
       "      <td>142496</td>\n",
       "      <td>29909</td>\n",
       "      <td>3027476</td>\n",
       "      <td>916780</td>\n",
       "    </tr>\n",
       "    <tr>\n",
       "      <th>West</th>\n",
       "      <td>36754</td>\n",
       "      <td>102428</td>\n",
       "      <td>288155</td>\n",
       "      <td>650574</td>\n",
       "      <td>173619</td>\n",
       "      <td>8743</td>\n",
       "      <td>260221</td>\n",
       "      <td>1327060</td>\n",
       "      <td>257352</td>\n",
       "      <td>212043</td>\n",
       "      <td>...</td>\n",
       "      <td>178200</td>\n",
       "      <td>65998</td>\n",
       "      <td>173830</td>\n",
       "      <td>15906</td>\n",
       "      <td>8581</td>\n",
       "      <td>457886</td>\n",
       "      <td>106647</td>\n",
       "      <td>24059</td>\n",
       "      <td>2324678</td>\n",
       "      <td>711329</td>\n",
       "    </tr>\n",
       "  </tbody>\n",
       "</table>\n",
       "<p>4 rows × 21 columns</p>\n",
       "</div>"
      ],
      "text/plain": [
       "department  alcohol  babies  bakery  beverages  breakfast   bulk  \\\n",
       "region                                                             \n",
       "Midwest       34043   95741  261753     598979     156155   7929   \n",
       "Northeast     20120   56872  155882     364615      92420   4471   \n",
       "South         48813  139511  371620     859419     223172  11180   \n",
       "West          36754  102428  288155     650574     173619   8743   \n",
       "\n",
       "department  canned goods  dairy eggs    deli  dry goods pasta  ...  household  \\\n",
       "region                                                         ...              \n",
       "Midwest           237459     1212490  234464           193463  ...     166992   \n",
       "Northeast         137738      711976  139808           111939  ...      96810   \n",
       "South             337458     1723016  333620           272813  ...     230061   \n",
       "West              260221     1327060  257352           212043  ...     178200   \n",
       "\n",
       "department  international  meat seafood  missing  other  pantry  \\\n",
       "region                                                            \n",
       "Midwest             60666        158260    15563   7983  420334   \n",
       "Northeast           35265         91595     8970   4926  244582   \n",
       "South               84649        224120    21787  11579  591754   \n",
       "West                65998        173830    15906   8581  457886   \n",
       "\n",
       "department  personal care   pets  produce  snacks  \n",
       "region                                             \n",
       "Midwest            100398  21358  2134115  645143  \n",
       "Northeast           58664  13150  1239418  384202  \n",
       "South              142496  29909  3027476  916780  \n",
       "West               106647  24059  2324678  711329  \n",
       "\n",
       "[4 rows x 21 columns]"
      ]
     },
     "execution_count": 74,
     "metadata": {},
     "output_type": "execute_result"
    }
   ],
   "source": [
    "region_dept_cross_cleaned"
   ]
  },
  {
   "cell_type": "code",
   "execution_count": 180,
   "id": "5db6a77e-d792-4922-a678-a5333b5f4834",
   "metadata": {},
   "outputs": [
    {
     "data": {
      "image/png": "[encoded data removed]",
      "text/plain": [
       "<Figure size 1400x1000 with 1 Axes>"
      ]
     },
     "metadata": {},
     "output_type": "display_data"
    },
    {
     "data": {
      "text/plain": [
       "<Figure size 640x480 with 0 Axes>"
      ]
     },
     "metadata": {},
     "output_type": "display_data"
    }
   ],
   "source": [
    "# creating bar chart\n",
    "region_dept_bar = region_dept_cross_cleaned.plot(kind = 'barh', figsize=(14,10))\n",
    "plt.title('Department Sales by Region')\n",
    "plt.xlabel('products count')\n",
    "plt.ylabel('region')\n",
    "plt.legend(title='Department', bbox_to_anchor=(1.05, 1), loc='upper left', fontsize=12, title_fontsize=14)\n",
    "plt.tight_layout()\n",
    "plt.show()\n",
    "plt.savefig('department_sales_by_region_bar_fixed.png', dpi=300, bbox_inches='tight')"
   ]
  },
  {
   "cell_type": "code",
   "execution_count": 182,
   "id": "0a162553-b79f-467d-a49d-cbc455e730e1",
   "metadata": {},
   "outputs": [],
   "source": [
    "region_dept_bar.figure.savefig(os.path.join(path, '04 Analysis','Visualizations', 'department_sales_by_region_bar'))"
   ]
  },
  {
   "cell_type": "code",
   "execution_count": 77,
   "id": "d44e0925-3d20-4409-9cf0-83589ee2677e",
   "metadata": {},
   "outputs": [],
   "source": [
    "# export data\n",
    "region_dept_cross_cleaned.to_pickle(os.path.join(path,'02 Data','Prepared Data','region_dept_cross_cleaned.pkl'))"
   ]
  },
  {
   "cell_type": "code",
   "execution_count": 78,
   "id": "45c85a8c-371a-405c-a4a8-9a199ab47594",
   "metadata": {},
   "outputs": [],
   "source": [
    "df_excluded_with_dept.to_pickle(os.path.join(path, '02 Data','Prepared Data', 'orders_products_customers_departments_cleaned.pkl'))"
   ]
  },
  {
   "cell_type": "code",
   "execution_count": 79,
   "id": "32f77d65-aaf3-4df0-806f-458c64efbbe8",
   "metadata": {},
   "outputs": [],
   "source": [
    "df = pd.read_pickle(os.path.join(path, '02 Data', 'Prepared Data', 'orders_products_customers_departments_cleaned.pkl'))"
   ]
  },
  {
   "cell_type": "code",
   "execution_count": 80,
   "id": "c6d8e2a4-1f88-4270-8c7b-61882fe4199c",
   "metadata": {},
   "outputs": [
    {
     "data": {
      "text/plain": [
       "Text(0.5, 0, '')"
      ]
     },
     "execution_count": 80,
     "metadata": {},
     "output_type": "execute_result"
    },
    {
     "data": {
      "image/png": "[encoded data removed]",
      "text/plain": [
       "<Figure size 640x480 with 1 Axes>"
      ]
     },
     "metadata": {},
     "output_type": "display_data"
    }
   ],
   "source": [
    "# creating bar chart\n",
    "orders_dow_bar = df['orders_day_of_week'].value_counts().sort_index().plot.bar(color = 'blue')\n",
    "orders_dow_bar.set_title('Orders by Day of Week')\n",
    "orders_dow_bar.set_xticklabels(['Saturday', 'Sunday', 'Monday', 'Tuesday', 'Wednesday', 'Thursday', 'Friday'], rotation=0)\n",
    "orders_dow_bar.set_xlabel(\"\")"
   ]
  },
  {
   "cell_type": "code",
   "execution_count": 81,
   "id": "45e5264a-f4df-4b65-ad73-67a6666e31d1",
   "metadata": {},
   "outputs": [],
   "source": [
    "# export bar chart\n",
    "orders_dow_bar.figure.savefig(os.path.join(path, '04 Analysis','Visualizations', 'orders_day_of_week_bar.png'))"
   ]
  },
  {
   "cell_type": "code",
   "execution_count": 82,
   "id": "8f29163c-049a-4ea8-9bad-706f0bcd2845",
   "metadata": {},
   "outputs": [
    {
     "data": {
      "text/plain": [
       "Text(0.5, 0, 'Hour of Day (24 hr clock)')"
      ]
     },
     "execution_count": 82,
     "metadata": {},
     "output_type": "execute_result"
    },
    {
     "data": {
      "image/png": "[encoded data removed]",
      "text/plain": [
       "<Figure size 640x480 with 1 Axes>"
      ]
     },
     "metadata": {},
     "output_type": "display_data"
    }
   ],
   "source": [
    "# histogram of hours of the day\n",
    "hod_hist=df['order_hour_of_day'].plot.hist(bins = 24)\n",
    "plt.title('Orders by Hour of Day')\n",
    "plt.xlabel('Hour of Day (24 hr clock)')"
   ]
  },
  {
   "cell_type": "code",
   "execution_count": 83,
   "id": "502b099c-d4a2-4f67-baf4-b8a9edbd8b26",
   "metadata": {},
   "outputs": [],
   "source": [
    "# export histogram\n",
    "hod_hist.figure.savefig(os.path.join(path, '04 Analysis','Visualizations', 'hour_of_day_hist.png'))"
   ]
  },
  {
   "cell_type": "code",
   "execution_count": 84,
   "id": "9f890753-c663-4eb2-96c8-5866872b1e6e",
   "metadata": {},
   "outputs": [
    {
     "data": {
      "text/html": [
       "<div>\n",
       "<style scoped>\n",
       "    .dataframe tbody tr th:only-of-type {\n",
       "        vertical-align: middle;\n",
       "    }\n",
       "\n",
       "    .dataframe tbody tr th {\n",
       "        vertical-align: top;\n",
       "    }\n",
       "\n",
       "    .dataframe thead th {\n",
       "        text-align: right;\n",
       "    }\n",
       "</style>\n",
       "<table border=\"1\" class=\"dataframe\">\n",
       "  <thead>\n",
       "    <tr style=\"text-align: right;\">\n",
       "      <th>income_group</th>\n",
       "      <th>high-income</th>\n",
       "      <th>low-income</th>\n",
       "      <th>middle-income</th>\n",
       "    </tr>\n",
       "    <tr>\n",
       "      <th>loyalty_flag</th>\n",
       "      <th></th>\n",
       "      <th></th>\n",
       "      <th></th>\n",
       "    </tr>\n",
       "  </thead>\n",
       "  <tbody>\n",
       "    <tr>\n",
       "      <th>Loyal customer</th>\n",
       "      <td>1310941</td>\n",
       "      <td>1381467</td>\n",
       "      <td>7591685</td>\n",
       "    </tr>\n",
       "    <tr>\n",
       "      <th>New customer</th>\n",
       "      <td>575272</td>\n",
       "      <td>798804</td>\n",
       "      <td>3429619</td>\n",
       "    </tr>\n",
       "    <tr>\n",
       "      <th>Regular customer</th>\n",
       "      <td>2008321</td>\n",
       "      <td>2272117</td>\n",
       "      <td>11596338</td>\n",
       "    </tr>\n",
       "  </tbody>\n",
       "</table>\n",
       "</div>"
      ],
      "text/plain": [
       "income_group      high-income  low-income  middle-income\n",
       "loyalty_flag                                            \n",
       "Loyal customer        1310941     1381467        7591685\n",
       "New customer           575272      798804        3429619\n",
       "Regular customer      2008321     2272117       11596338"
      ]
     },
     "execution_count": 84,
     "metadata": {},
     "output_type": "execute_result"
    }
   ],
   "source": [
    "# creating crosstab for loyalty with age group\n",
    "loyalty_income_cross = pd.crosstab(df['loyalty_flag'], df['income_group'], dropna = False)\n",
    "loyalty_income_cross"
   ]
  },
  {
   "cell_type": "code",
   "execution_count": 85,
   "id": "2d210333-6426-4708-9daf-131707e8d0eb",
   "metadata": {},
   "outputs": [
    {
     "data": {
      "text/plain": [
       "(array([0, 1, 2]),\n",
       " [Text(0, 0, 'Loyal customer'),\n",
       "  Text(1, 0, 'New customer'),\n",
       "  Text(2, 0, 'Regular customer')])"
      ]
     },
     "execution_count": 85,
     "metadata": {},
     "output_type": "execute_result"
    },
    {
     "data": {
      "image/png": "[encoded data removed]",
      "text/plain": [
       "<Figure size 640x480 with 1 Axes>"
      ]
     },
     "metadata": {},
     "output_type": "display_data"
    }
   ],
   "source": [
    "# creating bar chart\n",
    "loyalty_income_bar = loyalty_income_cross.plot.bar()\n",
    "plt.title('Loyalty by Income Group')\n",
    "plt.xlabel('')\n",
    "plt.ylabel('count')\n",
    "plt.xticks(rotation=0)"
   ]
  },
  {
   "cell_type": "code",
   "execution_count": 86,
   "id": "879e9e62-da41-4e34-aef4-ccccd2e48a1d",
   "metadata": {},
   "outputs": [],
   "source": [
    "# export the chart\n",
    "loyalty_income_bar.figure.savefig(os.path.join(path, '04 Analysis','Visualizations', 'loyalty_income_group_bar.png'))"
   ]
  },
  {
   "cell_type": "code",
   "execution_count": 87,
   "id": "286304a4-4a16-485a-a15f-9076ae2c1f4c",
   "metadata": {},
   "outputs": [
    {
     "data": {
      "text/html": [
       "<div>\n",
       "<style scoped>\n",
       "    .dataframe tbody tr th:only-of-type {\n",
       "        vertical-align: middle;\n",
       "    }\n",
       "\n",
       "    .dataframe tbody tr th {\n",
       "        vertical-align: top;\n",
       "    }\n",
       "\n",
       "    .dataframe thead th {\n",
       "        text-align: right;\n",
       "    }\n",
       "</style>\n",
       "<table border=\"1\" class=\"dataframe\">\n",
       "  <thead>\n",
       "    <tr style=\"text-align: right;\">\n",
       "      <th>spending_flag</th>\n",
       "      <th>High spender</th>\n",
       "      <th>Low spender</th>\n",
       "    </tr>\n",
       "    <tr>\n",
       "      <th>loyalty_flag</th>\n",
       "      <th></th>\n",
       "      <th></th>\n",
       "    </tr>\n",
       "  </thead>\n",
       "  <tbody>\n",
       "    <tr>\n",
       "      <th>Loyal customer</th>\n",
       "      <td>13896</td>\n",
       "      <td>10270197</td>\n",
       "    </tr>\n",
       "    <tr>\n",
       "      <th>New customer</th>\n",
       "      <td>36362</td>\n",
       "      <td>4767333</td>\n",
       "    </tr>\n",
       "    <tr>\n",
       "      <th>Regular customer</th>\n",
       "      <td>47185</td>\n",
       "      <td>15829591</td>\n",
       "    </tr>\n",
       "  </tbody>\n",
       "</table>\n",
       "</div>"
      ],
      "text/plain": [
       "spending_flag     High spender  Low spender\n",
       "loyalty_flag                               \n",
       "Loyal customer           13896     10270197\n",
       "New customer             36362      4767333\n",
       "Regular customer         47185     15829591"
      ]
     },
     "execution_count": 87,
     "metadata": {},
     "output_type": "execute_result"
    }
   ],
   "source": [
    "# creating crosstab loyalty with spending\n",
    "loyalty_spender_cross = pd.crosstab(df['loyalty_flag'], df['spending_flag'], dropna = False)\n",
    "loyalty_spender_cross"
   ]
  },
  {
   "cell_type": "code",
   "execution_count": 88,
   "id": "8a1ff950-2d7c-497d-a217-901c9f0aa330",
   "metadata": {
    "scrolled": true
   },
   "outputs": [
    {
     "data": {
      "text/plain": [
       "(array([0, 1, 2]),\n",
       " [Text(0, 0, 'Loyal customer'),\n",
       "  Text(1, 0, 'New customer'),\n",
       "  Text(2, 0, 'Regular customer')])"
      ]
     },
     "execution_count": 88,
     "metadata": {},
     "output_type": "execute_result"
    },
    {
     "data": {
      "image/png": "[encoded data removed]",
      "text/plain": [
       "<Figure size 640x480 with 1 Axes>"
      ]
     },
     "metadata": {},
     "output_type": "display_data"
    }
   ],
   "source": [
    "# creating bar chart\n",
    "loyalty_spender_bar = loyalty_spender_cross.plot.bar()\n",
    "plt.title('Loyalty by Spending flag')\n",
    "plt.xlabel('')\n",
    "plt.ylabel('count')\n",
    "plt.xticks(rotation=0)"
   ]
  },
  {
   "cell_type": "code",
   "execution_count": 89,
   "id": "c25400ad-1396-402f-9f99-dfb2ef650dea",
   "metadata": {},
   "outputs": [],
   "source": [
    "# export the chart\n",
    "loyalty_spender_bar.figure.savefig(os.path.join(path, '04 Analysis','Visualizations', 'loyalty_spending_bar.png'))"
   ]
  },
  {
   "cell_type": "code",
   "execution_count": 90,
   "id": "1fc0805d-8443-4df5-9517-0257f409aaca",
   "metadata": {},
   "outputs": [
    {
     "data": {
      "text/html": [
       "<div>\n",
       "<style scoped>\n",
       "    .dataframe tbody tr th:only-of-type {\n",
       "        vertical-align: middle;\n",
       "    }\n",
       "\n",
       "    .dataframe tbody tr th {\n",
       "        vertical-align: top;\n",
       "    }\n",
       "\n",
       "    .dataframe thead th {\n",
       "        text-align: right;\n",
       "    }\n",
       "</style>\n",
       "<table border=\"1\" class=\"dataframe\">\n",
       "  <thead>\n",
       "    <tr style=\"text-align: right;\">\n",
       "      <th>family_status</th>\n",
       "      <th>divorced/widowed</th>\n",
       "      <th>living with parents and siblings</th>\n",
       "      <th>married</th>\n",
       "      <th>single</th>\n",
       "    </tr>\n",
       "    <tr>\n",
       "      <th>loyalty_flag</th>\n",
       "      <th></th>\n",
       "      <th></th>\n",
       "      <th></th>\n",
       "      <th></th>\n",
       "    </tr>\n",
       "  </thead>\n",
       "  <tbody>\n",
       "    <tr>\n",
       "      <th>Loyal customer</th>\n",
       "      <td>882722</td>\n",
       "      <td>492749</td>\n",
       "      <td>7202500</td>\n",
       "      <td>1706122</td>\n",
       "    </tr>\n",
       "    <tr>\n",
       "      <th>New customer</th>\n",
       "      <td>403781</td>\n",
       "      <td>221779</td>\n",
       "      <td>3380651</td>\n",
       "      <td>797484</td>\n",
       "    </tr>\n",
       "    <tr>\n",
       "      <th>Regular customer</th>\n",
       "      <td>1358768</td>\n",
       "      <td>766644</td>\n",
       "      <td>11160560</td>\n",
       "      <td>2590804</td>\n",
       "    </tr>\n",
       "  </tbody>\n",
       "</table>\n",
       "</div>"
      ],
      "text/plain": [
       "family_status     divorced/widowed  living with parents and siblings  \\\n",
       "loyalty_flag                                                           \n",
       "Loyal customer              882722                            492749   \n",
       "New customer                403781                            221779   \n",
       "Regular customer           1358768                            766644   \n",
       "\n",
       "family_status      married   single  \n",
       "loyalty_flag                         \n",
       "Loyal customer     7202500  1706122  \n",
       "New customer       3380651   797484  \n",
       "Regular customer  11160560  2590804  "
      ]
     },
     "execution_count": 90,
     "metadata": {},
     "output_type": "execute_result"
    }
   ],
   "source": [
    "# creating crosstab loyalty with family status\n",
    "loyalty_fam_cross = pd.crosstab(df['loyalty_flag'], df['family_status'], dropna = False)\n",
    "loyalty_fam_cross"
   ]
  },
  {
   "cell_type": "code",
   "execution_count": 91,
   "id": "77a0f4ec-63d9-418b-9ffb-defb66f9b068",
   "metadata": {},
   "outputs": [
    {
     "data": {
      "text/plain": [
       "(array([0, 1, 2]),\n",
       " [Text(0, 0, 'Loyal customer'),\n",
       "  Text(1, 0, 'New customer'),\n",
       "  Text(2, 0, 'Regular customer')])"
      ]
     },
     "execution_count": 91,
     "metadata": {},
     "output_type": "execute_result"
    },
    {
     "data": {
      "image/png": "[encoded data removed]",
      "text/plain": [
       "<Figure size 640x480 with 1 Axes>"
      ]
     },
     "metadata": {},
     "output_type": "display_data"
    }
   ],
   "source": [
    "# creating bar chart\n",
    "loyalty_fam_bar = loyalty_fam_cross.plot.bar()\n",
    "plt.title('Loyalty by Family Status')\n",
    "plt.xlabel('')\n",
    "plt.ylabel('count')\n",
    "plt.xticks(rotation=0)"
   ]
  },
  {
   "cell_type": "code",
   "execution_count": 92,
   "id": "efc20ba4-c87f-4ac8-930a-9a0683caa560",
   "metadata": {},
   "outputs": [],
   "source": [
    "# export the chart\n",
    "loyalty_fam_bar.figure.savefig(os.path.join(path, '04 Analysis','Visualizations', 'loyalty_family_bar.png'))"
   ]
  },
  {
   "cell_type": "code",
   "execution_count": 93,
   "id": "25d6f34c-f5f4-48c6-a280-7a344972f857",
   "metadata": {},
   "outputs": [
    {
     "data": {
      "text/html": [
       "<div>\n",
       "<style scoped>\n",
       "    .dataframe tbody tr th:only-of-type {\n",
       "        vertical-align: middle;\n",
       "    }\n",
       "\n",
       "    .dataframe tbody tr th {\n",
       "        vertical-align: top;\n",
       "    }\n",
       "\n",
       "    .dataframe thead th {\n",
       "        text-align: right;\n",
       "    }\n",
       "</style>\n",
       "<table border=\"1\" class=\"dataframe\">\n",
       "  <thead>\n",
       "    <tr style=\"text-align: right;\">\n",
       "      <th>dependants_flag</th>\n",
       "      <th>has dependants</th>\n",
       "      <th>no dependants</th>\n",
       "    </tr>\n",
       "    <tr>\n",
       "      <th>loyalty_flag</th>\n",
       "      <th></th>\n",
       "      <th></th>\n",
       "    </tr>\n",
       "  </thead>\n",
       "  <tbody>\n",
       "    <tr>\n",
       "      <th>Loyal customer</th>\n",
       "      <td>7695249</td>\n",
       "      <td>2588844</td>\n",
       "    </tr>\n",
       "    <tr>\n",
       "      <th>New customer</th>\n",
       "      <td>3602430</td>\n",
       "      <td>1201265</td>\n",
       "    </tr>\n",
       "    <tr>\n",
       "      <th>Regular customer</th>\n",
       "      <td>11927204</td>\n",
       "      <td>3949572</td>\n",
       "    </tr>\n",
       "  </tbody>\n",
       "</table>\n",
       "</div>"
      ],
      "text/plain": [
       "dependants_flag   has dependants  no dependants\n",
       "loyalty_flag                                   \n",
       "Loyal customer           7695249        2588844\n",
       "New customer             3602430        1201265\n",
       "Regular customer        11927204        3949572"
      ]
     },
     "execution_count": 93,
     "metadata": {},
     "output_type": "execute_result"
    }
   ],
   "source": [
    "# creating crosstab loyalty with dependants\n",
    "loyalty_depend_cross = pd.crosstab(df['loyalty_flag'], df['dependants_flag'], dropna = False)\n",
    "loyalty_depend_cross"
   ]
  },
  {
   "cell_type": "code",
   "execution_count": 94,
   "id": "83c18144-0d6f-4740-809c-ba01a5a2f98d",
   "metadata": {},
   "outputs": [
    {
     "data": {
      "text/plain": [
       "(array([0, 1, 2]),\n",
       " [Text(0, 0, 'Loyal customer'),\n",
       "  Text(1, 0, 'New customer'),\n",
       "  Text(2, 0, 'Regular customer')])"
      ]
     },
     "execution_count": 94,
     "metadata": {},
     "output_type": "execute_result"
    },
    {
     "data": {
      "image/png": "[encoded data removed]",
      "text/plain": [
       "<Figure size 640x480 with 1 Axes>"
      ]
     },
     "metadata": {},
     "output_type": "display_data"
    }
   ],
   "source": [
    "# creating bar chart\n",
    "loyalty_depend_bar = loyalty_depend_cross.plot.bar()\n",
    "plt.title('Loyalty by Dependants Status')\n",
    "plt.xlabel('')\n",
    "plt.ylabel('count')\n",
    "plt.xticks(rotation=0)"
   ]
  },
  {
   "cell_type": "code",
   "execution_count": 95,
   "id": "a1723836-a036-4265-b09d-961a61f9e2b6",
   "metadata": {},
   "outputs": [],
   "source": [
    "# export bar chart\n",
    "loyalty_depend_bar.figure.savefig(os.path.join(path, '04 Analysis','Visualizations', 'loyalty_dependants_bar.png'))"
   ]
  },
  {
   "cell_type": "code",
   "execution_count": 96,
   "id": "f87092b7-4b76-4d6d-8a5b-1ea9f2fabe4a",
   "metadata": {},
   "outputs": [
    {
     "data": {
      "text/plain": [
       "family_status\n",
       "married                             21743711\n",
       "single                               5094410\n",
       "divorced/widowed                     2645271\n",
       "living with parents and siblings     1481172\n",
       "Name: count, dtype: int64"
      ]
     },
     "execution_count": 96,
     "metadata": {},
     "output_type": "execute_result"
    }
   ],
   "source": [
    "# checking value counts\n",
    "fam_status = df['family_status'].value_counts(dropna = False)\n",
    "fam_status"
   ]
  },
  {
   "cell_type": "code",
   "execution_count": 97,
   "id": "baf8136c-3dbd-4fbb-a439-b23d4673276d",
   "metadata": {},
   "outputs": [
    {
     "data": {
      "image/png": "[encoded data removed]",
      "text/plain": [
       "<Figure size 640x480 with 1 Axes>"
      ]
     },
     "metadata": {},
     "output_type": "display_data"
    }
   ],
   "source": [
    "# creating pie chart showing the distribution of family status\n",
    "fam_status_distribution_pie = fam_status.plot.pie(autopct='%1.1f%%', labels= ['married', 'single', 'divorced/widowed', 'living with parents and siblings'], startangle=90, colors=['#ff9999','#66b3ff','#99ff99','#ffcc99'])\n",
    "plt.ylabel('')  # Hide the y-label\n",
    "plt.title('Distribution of Family Status')\n",
    "plt.show()"
   ]
  },
  {
   "cell_type": "code",
   "execution_count": 98,
   "id": "d65e0bae-cfff-4c5d-bc24-e4165022f971",
   "metadata": {},
   "outputs": [],
   "source": [
    "# export the chart\n",
    "fam_status_distribution_pie.figure.savefig(os.path.join(path, '04 Analysis','Visualizations', 'family_status_bar.png'))"
   ]
  }
 ],
 "metadata": {
  "kernelspec": {
   "display_name": "Python 3 (ipykernel)",
   "language": "python",
   "name": "python3"
  },
  "language_info": {
   "codemirror_mode": {
    "name": "ipython",
    "version": 3
   },
   "file_extension": ".py",
   "mimetype": "text/x-python",
   "name": "python",
   "nbconvert_exporter": "python",
   "pygments_lexer": "ipython3",
   "version": "3.12.4"
  }
 },
 "nbformat": 4,
 "nbformat_minor": 5
}
